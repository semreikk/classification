{
  "nbformat": 4,
  "nbformat_minor": 0,
  "metadata": {
    "colab": {
      "name": "classification.ipynb",
      "provenance": [],
      "collapsed_sections": [],
      "toc_visible": true
    },
    "kernelspec": {
      "name": "python3",
      "display_name": "Python 3"
    }
  },
  "cells": [
    {
      "cell_type": "code",
      "metadata": {
        "id": "BWfZwFxol56v",
        "colab_type": "code",
        "outputId": "0c308e67-01c1-4385-e64d-1cc4351db9ce",
        "colab": {
          "base_uri": "https://localhost:8080/",
          "height": 71
        }
      },
      "source": [
        "import numpy as np\n",
        "import pandas as pd \n",
        "import statsmodels.api as sm\n",
        "import statsmodels.formula.api as smf\n",
        "import seaborn as sns\n",
        "from sklearn.preprocessing import scale \n",
        "from sklearn.model_selection import train_test_split, GridSearchCV, cross_val_score\n",
        "from sklearn.metrics import confusion_matrix, accuracy_score, classification_report\n",
        "from sklearn.metrics import roc_auc_score,roc_curve\n",
        "import statsmodels.formula.api as smf\n",
        "import matplotlib.pyplot as plt\n",
        "from sklearn.neighbors import KNeighborsClassifier\n",
        "from sklearn.discriminant_analysis import LinearDiscriminantAnalysis\n",
        "from sklearn.linear_model import LogisticRegression\n",
        "from sklearn.svm import SVC\n",
        "from sklearn.naive_bayes import GaussianNB\n",
        "from sklearn import tree\n",
        "from sklearn.ensemble import RandomForestClassifier\n",
        "from sklearn.ensemble import GradientBoostingClassifier\n",
        "from xgboost import XGBClassifier\n",
        "from lightgbm import LGBMClassifier\n",
        "# from catboost import CatBoostClassifier\n",
        "\n",
        "from warnings import filterwarnings\n",
        "filterwarnings('ignore')"
      ],
      "execution_count": 0,
      "outputs": [
        {
          "output_type": "stream",
          "text": [
            "/usr/local/lib/python3.6/dist-packages/statsmodels/tools/_testing.py:19: FutureWarning: pandas.util.testing is deprecated. Use the functions in the public API at pandas.testing instead.\n",
            "  import pandas.util.testing as tm\n"
          ],
          "name": "stderr"
        }
      ]
    },
    {
      "cell_type": "markdown",
      "metadata": {
        "id": "ZKsGbkT2nTQN",
        "colab_type": "text"
      },
      "source": [
        "# Lojistik Regresoyon"
      ]
    },
    {
      "cell_type": "markdown",
      "metadata": {
        "id": "xXZfOdYKnt53",
        "colab_type": "text"
      },
      "source": [
        "## Model"
      ]
    },
    {
      "cell_type": "code",
      "metadata": {
        "id": "Mt4YcrwonFaA",
        "colab_type": "code",
        "outputId": "a082fe11-c841-41f5-868a-612898114461",
        "colab": {
          "base_uri": "https://localhost:8080/",
          "height": 204
        }
      },
      "source": [
        "diabetes = pd.read_csv(\"diabetes.csv\")\n",
        "df = diabetes.copy()\n",
        "df = df.dropna()\n",
        "df.head()\n",
        "\n",
        "# Verinin olayı: verilen bilgilere göre kişinin diyabet hastası olup olmadığını tahmin eden bir model kurulabilir mi?"
      ],
      "execution_count": 0,
      "outputs": [
        {
          "output_type": "execute_result",
          "data": {
            "text/html": [
              "<div>\n",
              "<style scoped>\n",
              "    .dataframe tbody tr th:only-of-type {\n",
              "        vertical-align: middle;\n",
              "    }\n",
              "\n",
              "    .dataframe tbody tr th {\n",
              "        vertical-align: top;\n",
              "    }\n",
              "\n",
              "    .dataframe thead th {\n",
              "        text-align: right;\n",
              "    }\n",
              "</style>\n",
              "<table border=\"1\" class=\"dataframe\">\n",
              "  <thead>\n",
              "    <tr style=\"text-align: right;\">\n",
              "      <th></th>\n",
              "      <th>Pregnancies</th>\n",
              "      <th>Glucose</th>\n",
              "      <th>BloodPressure</th>\n",
              "      <th>SkinThickness</th>\n",
              "      <th>Insulin</th>\n",
              "      <th>BMI</th>\n",
              "      <th>DiabetesPedigreeFunction</th>\n",
              "      <th>Age</th>\n",
              "      <th>Outcome</th>\n",
              "    </tr>\n",
              "  </thead>\n",
              "  <tbody>\n",
              "    <tr>\n",
              "      <th>0</th>\n",
              "      <td>6</td>\n",
              "      <td>148</td>\n",
              "      <td>72</td>\n",
              "      <td>35</td>\n",
              "      <td>0</td>\n",
              "      <td>33.6</td>\n",
              "      <td>0.627</td>\n",
              "      <td>50</td>\n",
              "      <td>1</td>\n",
              "    </tr>\n",
              "    <tr>\n",
              "      <th>1</th>\n",
              "      <td>1</td>\n",
              "      <td>85</td>\n",
              "      <td>66</td>\n",
              "      <td>29</td>\n",
              "      <td>0</td>\n",
              "      <td>26.6</td>\n",
              "      <td>0.351</td>\n",
              "      <td>31</td>\n",
              "      <td>0</td>\n",
              "    </tr>\n",
              "    <tr>\n",
              "      <th>2</th>\n",
              "      <td>8</td>\n",
              "      <td>183</td>\n",
              "      <td>64</td>\n",
              "      <td>0</td>\n",
              "      <td>0</td>\n",
              "      <td>23.3</td>\n",
              "      <td>0.672</td>\n",
              "      <td>32</td>\n",
              "      <td>1</td>\n",
              "    </tr>\n",
              "    <tr>\n",
              "      <th>3</th>\n",
              "      <td>1</td>\n",
              "      <td>89</td>\n",
              "      <td>66</td>\n",
              "      <td>23</td>\n",
              "      <td>94</td>\n",
              "      <td>28.1</td>\n",
              "      <td>0.167</td>\n",
              "      <td>21</td>\n",
              "      <td>0</td>\n",
              "    </tr>\n",
              "    <tr>\n",
              "      <th>4</th>\n",
              "      <td>0</td>\n",
              "      <td>137</td>\n",
              "      <td>40</td>\n",
              "      <td>35</td>\n",
              "      <td>168</td>\n",
              "      <td>43.1</td>\n",
              "      <td>2.288</td>\n",
              "      <td>33</td>\n",
              "      <td>1</td>\n",
              "    </tr>\n",
              "  </tbody>\n",
              "</table>\n",
              "</div>"
            ],
            "text/plain": [
              "   Pregnancies  Glucose  BloodPressure  ...  DiabetesPedigreeFunction  Age  Outcome\n",
              "0            6      148             72  ...                     0.627   50        1\n",
              "1            1       85             66  ...                     0.351   31        0\n",
              "2            8      183             64  ...                     0.672   32        1\n",
              "3            1       89             66  ...                     0.167   21        0\n",
              "4            0      137             40  ...                     2.288   33        1\n",
              "\n",
              "[5 rows x 9 columns]"
            ]
          },
          "metadata": {
            "tags": []
          },
          "execution_count": 3
        }
      ]
    },
    {
      "cell_type": "code",
      "metadata": {
        "id": "YvcvKVByn3Nz",
        "colab_type": "code",
        "outputId": "29f9b52e-0864-4751-89dd-ddfdbf9fa290",
        "colab": {
          "base_uri": "https://localhost:8080/",
          "height": 289
        }
      },
      "source": [
        "df.info()"
      ],
      "execution_count": 0,
      "outputs": [
        {
          "output_type": "stream",
          "text": [
            "<class 'pandas.core.frame.DataFrame'>\n",
            "Int64Index: 768 entries, 0 to 767\n",
            "Data columns (total 9 columns):\n",
            " #   Column                    Non-Null Count  Dtype  \n",
            "---  ------                    --------------  -----  \n",
            " 0   Pregnancies               768 non-null    int64  \n",
            " 1   Glucose                   768 non-null    int64  \n",
            " 2   BloodPressure             768 non-null    int64  \n",
            " 3   SkinThickness             768 non-null    int64  \n",
            " 4   Insulin                   768 non-null    int64  \n",
            " 5   BMI                       768 non-null    float64\n",
            " 6   DiabetesPedigreeFunction  768 non-null    float64\n",
            " 7   Age                       768 non-null    int64  \n",
            " 8   Outcome                   768 non-null    int64  \n",
            "dtypes: float64(2), int64(7)\n",
            "memory usage: 60.0 KB\n"
          ],
          "name": "stdout"
        }
      ]
    },
    {
      "cell_type": "code",
      "metadata": {
        "id": "ay98l0ljorFX",
        "colab_type": "code",
        "outputId": "075e8bd5-858e-4358-9a04-d9a2272dbfca",
        "colab": {
          "base_uri": "https://localhost:8080/",
          "height": 68
        }
      },
      "source": [
        "df[\"Outcome\"].value_counts()"
      ],
      "execution_count": 0,
      "outputs": [
        {
          "output_type": "execute_result",
          "data": {
            "text/plain": [
              "0    500\n",
              "1    268\n",
              "Name: Outcome, dtype: int64"
            ]
          },
          "metadata": {
            "tags": []
          },
          "execution_count": 6
        }
      ]
    },
    {
      "cell_type": "code",
      "metadata": {
        "id": "4vWYjCRlpDxI",
        "colab_type": "code",
        "outputId": "2b909055-e1d0-469b-8bfb-b0cbc66690df",
        "colab": {
          "base_uri": "https://localhost:8080/",
          "height": 265
        }
      },
      "source": [
        "df[\"Outcome\"].value_counts().plot.barh();\n",
        "\n",
        "# verinin dağlımına bakarak test train ayrımını yapmalıyız."
      ],
      "execution_count": 0,
      "outputs": [
        {
          "output_type": "display_data",
          "data": {
            "image/png": "[encoded data removed]",
            "text/plain": [
              "<Figure size 432x288 with 1 Axes>"
            ]
          },
          "metadata": {
            "tags": [],
            "needs_background": "light"
          }
        }
      ]
    },
    {
      "cell_type": "code",
      "metadata": {
        "id": "n5m_r2h2pTzp",
        "colab_type": "code",
        "outputId": "3bc7ba6a-5a62-4380-be55-d85cd7e3d651",
        "colab": {
          "base_uri": "https://localhost:8080/",
          "height": 328
        }
      },
      "source": [
        "df.describe().T"
      ],
      "execution_count": 0,
      "outputs": [
        {
          "output_type": "execute_result",
          "data": {
            "text/html": [
              "<div>\n",
              "<style scoped>\n",
              "    .dataframe tbody tr th:only-of-type {\n",
              "        vertical-align: middle;\n",
              "    }\n",
              "\n",
              "    .dataframe tbody tr th {\n",
              "        vertical-align: top;\n",
              "    }\n",
              "\n",
              "    .dataframe thead th {\n",
              "        text-align: right;\n",
              "    }\n",
              "</style>\n",
              "<table border=\"1\" class=\"dataframe\">\n",
              "  <thead>\n",
              "    <tr style=\"text-align: right;\">\n",
              "      <th></th>\n",
              "      <th>count</th>\n",
              "      <th>mean</th>\n",
              "      <th>std</th>\n",
              "      <th>min</th>\n",
              "      <th>25%</th>\n",
              "      <th>50%</th>\n",
              "      <th>75%</th>\n",
              "      <th>max</th>\n",
              "    </tr>\n",
              "  </thead>\n",
              "  <tbody>\n",
              "    <tr>\n",
              "      <th>Pregnancies</th>\n",
              "      <td>768.0</td>\n",
              "      <td>3.845052</td>\n",
              "      <td>3.369578</td>\n",
              "      <td>0.000</td>\n",
              "      <td>1.00000</td>\n",
              "      <td>3.0000</td>\n",
              "      <td>6.00000</td>\n",
              "      <td>17.00</td>\n",
              "    </tr>\n",
              "    <tr>\n",
              "      <th>Glucose</th>\n",
              "      <td>768.0</td>\n",
              "      <td>120.894531</td>\n",
              "      <td>31.972618</td>\n",
              "      <td>0.000</td>\n",
              "      <td>99.00000</td>\n",
              "      <td>117.0000</td>\n",
              "      <td>140.25000</td>\n",
              "      <td>199.00</td>\n",
              "    </tr>\n",
              "    <tr>\n",
              "      <th>BloodPressure</th>\n",
              "      <td>768.0</td>\n",
              "      <td>69.105469</td>\n",
              "      <td>19.355807</td>\n",
              "      <td>0.000</td>\n",
              "      <td>62.00000</td>\n",
              "      <td>72.0000</td>\n",
              "      <td>80.00000</td>\n",
              "      <td>122.00</td>\n",
              "    </tr>\n",
              "    <tr>\n",
              "      <th>SkinThickness</th>\n",
              "      <td>768.0</td>\n",
              "      <td>20.536458</td>\n",
              "      <td>15.952218</td>\n",
              "      <td>0.000</td>\n",
              "      <td>0.00000</td>\n",
              "      <td>23.0000</td>\n",
              "      <td>32.00000</td>\n",
              "      <td>99.00</td>\n",
              "    </tr>\n",
              "    <tr>\n",
              "      <th>Insulin</th>\n",
              "      <td>768.0</td>\n",
              "      <td>79.799479</td>\n",
              "      <td>115.244002</td>\n",
              "      <td>0.000</td>\n",
              "      <td>0.00000</td>\n",
              "      <td>30.5000</td>\n",
              "      <td>127.25000</td>\n",
              "      <td>846.00</td>\n",
              "    </tr>\n",
              "    <tr>\n",
              "      <th>BMI</th>\n",
              "      <td>768.0</td>\n",
              "      <td>31.992578</td>\n",
              "      <td>7.884160</td>\n",
              "      <td>0.000</td>\n",
              "      <td>27.30000</td>\n",
              "      <td>32.0000</td>\n",
              "      <td>36.60000</td>\n",
              "      <td>67.10</td>\n",
              "    </tr>\n",
              "    <tr>\n",
              "      <th>DiabetesPedigreeFunction</th>\n",
              "      <td>768.0</td>\n",
              "      <td>0.471876</td>\n",
              "      <td>0.331329</td>\n",
              "      <td>0.078</td>\n",
              "      <td>0.24375</td>\n",
              "      <td>0.3725</td>\n",
              "      <td>0.62625</td>\n",
              "      <td>2.42</td>\n",
              "    </tr>\n",
              "    <tr>\n",
              "      <th>Age</th>\n",
              "      <td>768.0</td>\n",
              "      <td>33.240885</td>\n",
              "      <td>11.760232</td>\n",
              "      <td>21.000</td>\n",
              "      <td>24.00000</td>\n",
              "      <td>29.0000</td>\n",
              "      <td>41.00000</td>\n",
              "      <td>81.00</td>\n",
              "    </tr>\n",
              "    <tr>\n",
              "      <th>Outcome</th>\n",
              "      <td>768.0</td>\n",
              "      <td>0.348958</td>\n",
              "      <td>0.476951</td>\n",
              "      <td>0.000</td>\n",
              "      <td>0.00000</td>\n",
              "      <td>0.0000</td>\n",
              "      <td>1.00000</td>\n",
              "      <td>1.00</td>\n",
              "    </tr>\n",
              "  </tbody>\n",
              "</table>\n",
              "</div>"
            ],
            "text/plain": [
              "                          count        mean  ...        75%     max\n",
              "Pregnancies               768.0    3.845052  ...    6.00000   17.00\n",
              "Glucose                   768.0  120.894531  ...  140.25000  199.00\n",
              "BloodPressure             768.0   69.105469  ...   80.00000  122.00\n",
              "SkinThickness             768.0   20.536458  ...   32.00000   99.00\n",
              "Insulin                   768.0   79.799479  ...  127.25000  846.00\n",
              "BMI                       768.0   31.992578  ...   36.60000   67.10\n",
              "DiabetesPedigreeFunction  768.0    0.471876  ...    0.62625    2.42\n",
              "Age                       768.0   33.240885  ...   41.00000   81.00\n",
              "Outcome                   768.0    0.348958  ...    1.00000    1.00\n",
              "\n",
              "[9 rows x 8 columns]"
            ]
          },
          "metadata": {
            "tags": []
          },
          "execution_count": 8
        }
      ]
    },
    {
      "cell_type": "code",
      "metadata": {
        "id": "jr0TImHZpZ8j",
        "colab_type": "code",
        "colab": {}
      },
      "source": [
        "y = df[\"Outcome\"]\n",
        "X = df.drop([\"Outcome\"], axis =1)"
      ],
      "execution_count": 0,
      "outputs": []
    },
    {
      "cell_type": "code",
      "metadata": {
        "id": "21wS8zM2p7x5",
        "colab_type": "code",
        "outputId": "ae89876a-7e63-45e7-c9c3-0d9a97e61434",
        "colab": {
          "base_uri": "https://localhost:8080/",
          "height": 425
        }
      },
      "source": [
        "# statsmodel ile \n",
        "\n",
        "loj = sm.Logit(y,X)\n",
        "loj_model = loj.fit()\n",
        "loj_model.summary()"
      ],
      "execution_count": 0,
      "outputs": [
        {
          "output_type": "stream",
          "text": [
            "Optimization terminated successfully.\n",
            "         Current function value: 0.608498\n",
            "         Iterations 5\n"
          ],
          "name": "stdout"
        },
        {
          "output_type": "execute_result",
          "data": {
            "text/html": [
              "<table class=\"simpletable\">\n",
              "<caption>Logit Regression Results</caption>\n",
              "<tr>\n",
              "  <th>Dep. Variable:</th>        <td>Outcome</td>     <th>  No. Observations:  </th>  <td>   768</td>  \n",
              "</tr>\n",
              "<tr>\n",
              "  <th>Model:</th>                 <td>Logit</td>      <th>  Df Residuals:      </th>  <td>   760</td>  \n",
              "</tr>\n",
              "<tr>\n",
              "  <th>Method:</th>                 <td>MLE</td>       <th>  Df Model:          </th>  <td>     7</td>  \n",
              "</tr>\n",
              "<tr>\n",
              "  <th>Date:</th>            <td>Wed, 29 Apr 2020</td> <th>  Pseudo R-squ.:     </th>  <td>0.05922</td> \n",
              "</tr>\n",
              "<tr>\n",
              "  <th>Time:</th>                <td>12:18:32</td>     <th>  Log-Likelihood:    </th> <td> -467.33</td> \n",
              "</tr>\n",
              "<tr>\n",
              "  <th>converged:</th>             <td>True</td>       <th>  LL-Null:           </th> <td> -496.74</td> \n",
              "</tr>\n",
              "<tr>\n",
              "  <th>Covariance Type:</th>     <td>nonrobust</td>    <th>  LLR p-value:       </th> <td>2.583e-10</td>\n",
              "</tr>\n",
              "</table>\n",
              "<table class=\"simpletable\">\n",
              "<tr>\n",
              "              <td></td>                <th>coef</th>     <th>std err</th>      <th>z</th>      <th>P>|z|</th>  <th>[0.025</th>    <th>0.975]</th>  \n",
              "</tr>\n",
              "<tr>\n",
              "  <th>Pregnancies</th>              <td>    0.1284</td> <td>    0.029</td> <td>    4.484</td> <td> 0.000</td> <td>    0.072</td> <td>    0.185</td>\n",
              "</tr>\n",
              "<tr>\n",
              "  <th>Glucose</th>                  <td>    0.0129</td> <td>    0.003</td> <td>    4.757</td> <td> 0.000</td> <td>    0.008</td> <td>    0.018</td>\n",
              "</tr>\n",
              "<tr>\n",
              "  <th>BloodPressure</th>            <td>   -0.0303</td> <td>    0.005</td> <td>   -6.481</td> <td> 0.000</td> <td>   -0.039</td> <td>   -0.021</td>\n",
              "</tr>\n",
              "<tr>\n",
              "  <th>SkinThickness</th>            <td>    0.0002</td> <td>    0.006</td> <td>    0.032</td> <td> 0.974</td> <td>   -0.012</td> <td>    0.012</td>\n",
              "</tr>\n",
              "<tr>\n",
              "  <th>Insulin</th>                  <td>    0.0007</td> <td>    0.001</td> <td>    0.942</td> <td> 0.346</td> <td>   -0.001</td> <td>    0.002</td>\n",
              "</tr>\n",
              "<tr>\n",
              "  <th>BMI</th>                      <td>   -0.0048</td> <td>    0.011</td> <td>   -0.449</td> <td> 0.653</td> <td>   -0.026</td> <td>    0.016</td>\n",
              "</tr>\n",
              "<tr>\n",
              "  <th>DiabetesPedigreeFunction</th> <td>    0.3203</td> <td>    0.240</td> <td>    1.335</td> <td> 0.182</td> <td>   -0.150</td> <td>    0.790</td>\n",
              "</tr>\n",
              "<tr>\n",
              "  <th>Age</th>                      <td>   -0.0156</td> <td>    0.008</td> <td>   -1.852</td> <td> 0.064</td> <td>   -0.032</td> <td>    0.001</td>\n",
              "</tr>\n",
              "</table>"
            ],
            "text/plain": [
              "<class 'statsmodels.iolib.summary.Summary'>\n",
              "\"\"\"\n",
              "                           Logit Regression Results                           \n",
              "==============================================================================\n",
              "Dep. Variable:                Outcome   No. Observations:                  768\n",
              "Model:                          Logit   Df Residuals:                      760\n",
              "Method:                           MLE   Df Model:                            7\n",
              "Date:                Wed, 29 Apr 2020   Pseudo R-squ.:                 0.05922\n",
              "Time:                        12:18:32   Log-Likelihood:                -467.33\n",
              "converged:                       True   LL-Null:                       -496.74\n",
              "Covariance Type:            nonrobust   LLR p-value:                 2.583e-10\n",
              "============================================================================================\n",
              "                               coef    std err          z      P>|z|      [0.025      0.975]\n",
              "--------------------------------------------------------------------------------------------\n",
              "Pregnancies                  0.1284      0.029      4.484      0.000       0.072       0.185\n",
              "Glucose                      0.0129      0.003      4.757      0.000       0.008       0.018\n",
              "BloodPressure               -0.0303      0.005     -6.481      0.000      -0.039      -0.021\n",
              "SkinThickness                0.0002      0.006      0.032      0.974      -0.012       0.012\n",
              "Insulin                      0.0007      0.001      0.942      0.346      -0.001       0.002\n",
              "BMI                         -0.0048      0.011     -0.449      0.653      -0.026       0.016\n",
              "DiabetesPedigreeFunction     0.3203      0.240      1.335      0.182      -0.150       0.790\n",
              "Age                         -0.0156      0.008     -1.852      0.064      -0.032       0.001\n",
              "============================================================================================\n",
              "\"\"\""
            ]
          },
          "metadata": {
            "tags": []
          },
          "execution_count": 10
        }
      ]
    },
    {
      "cell_type": "code",
      "metadata": {
        "id": "s0dMm5zDqK29",
        "colab_type": "code",
        "outputId": "111fcabd-47b9-419d-bb0a-727cf63530a5",
        "colab": {
          "base_uri": "https://localhost:8080/",
          "height": 102
        }
      },
      "source": [
        "# sklearn ile\n",
        "\n",
        "from sklearn.linear_model import  LogisticRegression\n",
        "\n",
        "loj = LogisticRegression(solver = \"liblinear\")\n",
        "loj_model = loj.fit(X,y)\n",
        "loj_model"
      ],
      "execution_count": 0,
      "outputs": [
        {
          "output_type": "execute_result",
          "data": {
            "text/plain": [
              "LogisticRegression(C=1.0, class_weight=None, dual=False, fit_intercept=True,\n",
              "                   intercept_scaling=1, l1_ratio=None, max_iter=100,\n",
              "                   multi_class='auto', n_jobs=None, penalty='l2',\n",
              "                   random_state=None, solver='liblinear', tol=0.0001, verbose=0,\n",
              "                   warm_start=False)"
            ]
          },
          "metadata": {
            "tags": []
          },
          "execution_count": 11
        }
      ]
    },
    {
      "cell_type": "code",
      "metadata": {
        "id": "X57z-1P-rTob",
        "colab_type": "code",
        "outputId": "0a3cac14-d26f-44a6-cf50-2bae6ee84fab",
        "colab": {
          "base_uri": "https://localhost:8080/",
          "height": 34
        }
      },
      "source": [
        "loj_model.intercept_"
      ],
      "execution_count": 0,
      "outputs": [
        {
          "output_type": "execute_result",
          "data": {
            "text/plain": [
              "array([-5.88653539])"
            ]
          },
          "metadata": {
            "tags": []
          },
          "execution_count": 12
        }
      ]
    },
    {
      "cell_type": "code",
      "metadata": {
        "id": "C36QoXBnrmj9",
        "colab_type": "code",
        "outputId": "89bee7b2-59fe-4193-98ff-b61afb63aa56",
        "colab": {
          "base_uri": "https://localhost:8080/",
          "height": 68
        }
      },
      "source": [
        "loj_model.coef_"
      ],
      "execution_count": 0,
      "outputs": [
        {
          "output_type": "execute_result",
          "data": {
            "text/plain": [
              "array([[ 1.17098692e-01,  2.83673379e-02, -1.69010912e-02,\n",
              "         7.40100722e-04, -6.42594633e-04,  5.96676293e-02,\n",
              "         6.83738130e-01,  7.20115615e-03]])"
            ]
          },
          "metadata": {
            "tags": []
          },
          "execution_count": 13
        }
      ]
    },
    {
      "cell_type": "markdown",
      "metadata": {
        "id": "4JAprvc3r1kH",
        "colab_type": "text"
      },
      "source": [
        "## Tahmin & Model Tuning"
      ]
    },
    {
      "cell_type": "code",
      "metadata": {
        "id": "j7mTQ_y5rpj6",
        "colab_type": "code",
        "colab": {}
      },
      "source": [
        "# lojistik regresyon modeli için optimize edilmesi gereken bir hiper parametre yoktur. Belki sadece sabit doğrulanabilir.\n",
        "# ayrıca bağımlı değişkenin sınıflarının hangisi olduğundan emin olmak gerekir. yani 1  diyabetliyi ve 0 diyabetli olmayanı mı ifade ediyor bunu öğrenmeliyiz. \n",
        "# bu konularda genel olarak nadir ve ortaya çıkarılmak istenen sınıf 1 olur. diyabetli vs."
      ],
      "execution_count": 0,
      "outputs": []
    },
    {
      "cell_type": "code",
      "metadata": {
        "id": "Gu7TyBS4siJG",
        "colab_type": "code",
        "colab": {}
      },
      "source": [
        "y_pred = loj_model.predict(X)"
      ],
      "execution_count": 0,
      "outputs": []
    },
    {
      "cell_type": "code",
      "metadata": {
        "id": "TjQgOJ2iuKzl",
        "colab_type": "code",
        "outputId": "ef69ed35-95b6-4ef7-cc1b-2b4a289fe3f0",
        "colab": {
          "base_uri": "https://localhost:8080/",
          "height": 51
        }
      },
      "source": [
        "confusion_matrix(y, y_pred) # karmaşıklılık matrix idir. yani gerçekte 1 iken 1 denilenler gerçekte 1 iken 0 denilenler vs.\n",
        "\n",
        "#              gercek     \n",
        "#              1    0\n",
        "# tahmin  1   448   52\n",
        "#  tahmin 0   120   148\n",
        "#"
      ],
      "execution_count": 0,
      "outputs": [
        {
          "output_type": "execute_result",
          "data": {
            "text/plain": [
              "array([[448,  52],\n",
              "       [120, 148]])"
            ]
          },
          "metadata": {
            "tags": []
          },
          "execution_count": 25
        }
      ]
    },
    {
      "cell_type": "code",
      "metadata": {
        "id": "zIy4jwDeuYQT",
        "colab_type": "code",
        "outputId": "c149b141-61c2-4fab-c259-b7af1970566e",
        "colab": {
          "base_uri": "https://localhost:8080/",
          "height": 34
        }
      },
      "source": [
        "accuracy_score(y,y_pred) # 1 e yaklaştıkça daha iyidir. doğruluk oranıdır."
      ],
      "execution_count": 0,
      "outputs": [
        {
          "output_type": "execute_result",
          "data": {
            "text/plain": [
              "0.7760416666666666"
            ]
          },
          "metadata": {
            "tags": []
          },
          "execution_count": 26
        }
      ]
    },
    {
      "cell_type": "code",
      "metadata": {
        "id": "y3Vo2uL7v31h",
        "colab_type": "code",
        "outputId": "97e3d37d-61a6-42d2-e730-5cda62f6d7ba",
        "colab": {
          "base_uri": "https://localhost:8080/",
          "height": 170
        }
      },
      "source": [
        "print(classification_report(y,y_pred))"
      ],
      "execution_count": 0,
      "outputs": [
        {
          "output_type": "stream",
          "text": [
            "              precision    recall  f1-score   support\n",
            "\n",
            "           0       0.79      0.90      0.84       500\n",
            "           1       0.74      0.55      0.63       268\n",
            "\n",
            "    accuracy                           0.78       768\n",
            "   macro avg       0.76      0.72      0.74       768\n",
            "weighted avg       0.77      0.78      0.77       768\n",
            "\n"
          ],
          "name": "stdout"
        }
      ]
    },
    {
      "cell_type": "code",
      "metadata": {
        "id": "h_Ed4XwKwRXG",
        "colab_type": "code",
        "outputId": "0628ef1f-741d-4eff-a4be-a6304fb6f093",
        "colab": {
          "base_uri": "https://localhost:8080/",
          "height": 34
        }
      },
      "source": [
        "loj_model.predict(X)[0:10] # burda 1 0 değerlerini döndü ama ben olasılık değerlerini istiyorsam??"
      ],
      "execution_count": 0,
      "outputs": [
        {
          "output_type": "execute_result",
          "data": {
            "text/plain": [
              "array([1, 0, 1, 0, 1, 0, 0, 1, 1, 0])"
            ]
          },
          "metadata": {
            "tags": []
          },
          "execution_count": 28
        }
      ]
    },
    {
      "cell_type": "code",
      "metadata": {
        "id": "3lFlgMwFwx7s",
        "colab_type": "code",
        "outputId": "563a94dc-a54f-4570-a156-dde38563dda5",
        "colab": {
          "base_uri": "https://localhost:8080/",
          "height": 187
        }
      },
      "source": [
        "loj_model.predict_proba(X)[0:10][:,0:2] # olasılıklarını aldım. soldaki 0.indexteki sütun  0 sınıfına ait olasılıklar sağdki 1. indexteki sütun 1sınıfına."
      ],
      "execution_count": 0,
      "outputs": [
        {
          "output_type": "execute_result",
          "data": {
            "text/plain": [
              "array([[0.35045457, 0.64954543],\n",
              "       [0.91696714, 0.08303286],\n",
              "       [0.22444087, 0.77555913],\n",
              "       [0.92140042, 0.07859958],\n",
              "       [0.16584029, 0.83415971],\n",
              "       [0.79901575, 0.20098425],\n",
              "       [0.88016705, 0.11983295],\n",
              "       [0.27819813, 0.72180187],\n",
              "       [0.3215012 , 0.6784988 ],\n",
              "       [0.92264531, 0.07735469]])"
            ]
          },
          "metadata": {
            "tags": []
          },
          "execution_count": 29
        }
      ]
    },
    {
      "cell_type": "code",
      "metadata": {
        "id": "7XfwWWhpxRUT",
        "colab_type": "code",
        "outputId": "4a86bfc5-16b5-4e78-ce75-d561ea6b6e25",
        "colab": {
          "base_uri": "https://localhost:8080/",
          "height": 204
        }
      },
      "source": [
        "y[0:10] \n",
        "# bakın mesela ilk değerim gerçekte 1 iken tahmin de de 1. o halde 0 olma olasılığı düşük olmalıdır ki proba ya bakarsak 34 e 64 değerinden bunu görürüz."
      ],
      "execution_count": 0,
      "outputs": [
        {
          "output_type": "execute_result",
          "data": {
            "text/plain": [
              "0    1\n",
              "1    0\n",
              "2    1\n",
              "3    0\n",
              "4    1\n",
              "5    0\n",
              "6    1\n",
              "7    0\n",
              "8    1\n",
              "9    1\n",
              "Name: Outcome, dtype: int64"
            ]
          },
          "metadata": {
            "tags": []
          },
          "execution_count": 30
        }
      ]
    },
    {
      "cell_type": "code",
      "metadata": {
        "id": "nUjrjds6yclC",
        "colab_type": "code",
        "colab": {}
      },
      "source": [
        "# şimdi predict_proba da verilen olasılıklar üzerinden eşik değeri belirleyerek bunnu 1 ve 0 a çevirebiliriz."
      ],
      "execution_count": 0,
      "outputs": []
    },
    {
      "cell_type": "code",
      "metadata": {
        "id": "Ba7Sx9o706XZ",
        "colab_type": "code",
        "colab": {}
      },
      "source": [
        "y_probs = loj_model.predict_proba(X)\n",
        "y_probs = y_probs[:,1]"
      ],
      "execution_count": 0,
      "outputs": []
    },
    {
      "cell_type": "code",
      "metadata": {
        "id": "Z0BCkmPv1SS6",
        "colab_type": "code",
        "outputId": "b6eb8375-c1c0-4f70-f102-a1cd5dfe7862",
        "colab": {
          "base_uri": "https://localhost:8080/",
          "height": 51
        }
      },
      "source": [
        "y_probs[0:10]"
      ],
      "execution_count": 0,
      "outputs": [
        {
          "output_type": "execute_result",
          "data": {
            "text/plain": [
              "array([0.64954543, 0.08303286, 0.77555913, 0.07859958, 0.83415971,\n",
              "       0.20098425, 0.11983295, 0.72180187, 0.6784988 , 0.07735469])"
            ]
          },
          "metadata": {
            "tags": []
          },
          "execution_count": 33
        }
      ]
    },
    {
      "cell_type": "code",
      "metadata": {
        "id": "NVxWmiKb0NxL",
        "colab_type": "code",
        "colab": {}
      },
      "source": [
        "y_pred = [1 if i >0.5 else  0 for i in y_probs]"
      ],
      "execution_count": 0,
      "outputs": []
    },
    {
      "cell_type": "code",
      "metadata": {
        "id": "872GxNGH1n5A",
        "colab_type": "code",
        "outputId": "1522d45b-6ba3-4657-9b25-f16f4758daab",
        "colab": {
          "base_uri": "https://localhost:8080/",
          "height": 34
        }
      },
      "source": [
        "y_pred[0:10]"
      ],
      "execution_count": 0,
      "outputs": [
        {
          "output_type": "execute_result",
          "data": {
            "text/plain": [
              "[1, 0, 1, 0, 1, 0, 0, 1, 1, 0]"
            ]
          },
          "metadata": {
            "tags": []
          },
          "execution_count": 35
        }
      ]
    },
    {
      "cell_type": "code",
      "metadata": {
        "id": "xvifcEqp1tv_",
        "colab_type": "code",
        "outputId": "49056ce5-5f27-4e02-a9cb-73d0de81f0db",
        "colab": {
          "base_uri": "https://localhost:8080/",
          "height": 295
        }
      },
      "source": [
        "logit_roc_auc = roc_auc_score(y, loj_model.predict(X))\n",
        "\n",
        "fpr, tpr, thresholds = roc_curve(y, loj_model.predict_proba(X)[:,1])\n",
        "plt.figure()\n",
        "plt.plot(fpr, tpr, label='AUC (area = %0.2f)' % logit_roc_auc)\n",
        "plt.plot([0, 1], [0, 1],'r--')\n",
        "plt.xlim([0.0, 1.0])\n",
        "plt.ylim([0.0, 1.05])\n",
        "plt.xlabel('False Positive Oranı')\n",
        "plt.ylabel('True Positive Oranı')\n",
        "plt.title('ROC')\n",
        "plt.show()\n",
        "\n",
        "# kırmızı çizgi hiç bir sınıflandırma modeli yapmasak oluşacak tahmin değerleridir. farkı ortaya koymak için bu çizgide uzaklaşmaya çalışırız\n",
        "# mavi eğri ise bizim tahminlerimizdir.\n",
        "# iki çizgi arasındaki alan hesabı, auc değeri denilen eğrinin altında kalan o alanı hesaplayarak bulunur. bize 0 ile 1 arasında değer verir.\n",
        "# bu değer modelin başarısını açıklar."
      ],
      "execution_count": 0,
      "outputs": [
        {
          "output_type": "display_data",
          "data": {
            "image/png": "[encoded data removed]",
            "text/plain": [
              "<Figure size 432x288 with 1 Axes>"
            ]
          },
          "metadata": {
            "tags": [],
            "needs_background": "light"
          }
        }
      ]
    },
    {
      "cell_type": "code",
      "metadata": {
        "id": "8ivaCvm12AZf",
        "colab_type": "code",
        "colab": {}
      },
      "source": [
        "X_train, X_test, y_train, y_test = train_test_split(X, y, \n",
        "                                                    test_size = 0.30, \n",
        "                                                    random_state = 42)\n"
      ],
      "execution_count": 0,
      "outputs": []
    },
    {
      "cell_type": "code",
      "metadata": {
        "id": "5BsOlPqE2D2o",
        "colab_type": "code",
        "outputId": "84783c4e-97c6-4f40-bd98-6aa8bbbe1351",
        "colab": {
          "base_uri": "https://localhost:8080/",
          "height": 102
        }
      },
      "source": [
        "loj = LogisticRegression(solver = \"liblinear\")\n",
        "loj_model = loj.fit(X_train,y_train)\n",
        "loj_model"
      ],
      "execution_count": 0,
      "outputs": [
        {
          "output_type": "execute_result",
          "data": {
            "text/plain": [
              "LogisticRegression(C=1.0, class_weight=None, dual=False, fit_intercept=True,\n",
              "                   intercept_scaling=1, l1_ratio=None, max_iter=100,\n",
              "                   multi_class='auto', n_jobs=None, penalty='l2',\n",
              "                   random_state=None, solver='liblinear', tol=0.0001, verbose=0,\n",
              "                   warm_start=False)"
            ]
          },
          "metadata": {
            "tags": []
          },
          "execution_count": 38
        }
      ]
    },
    {
      "cell_type": "code",
      "metadata": {
        "id": "fC8AWMvL5qqA",
        "colab_type": "code",
        "outputId": "9595551e-4e1d-44e9-91c6-b6f004db7e7c",
        "colab": {
          "base_uri": "https://localhost:8080/",
          "height": 34
        }
      },
      "source": [
        "y_pred = loj_model.predict(X_test)\n",
        "accuracy_score(y_test,y_pred)"
      ],
      "execution_count": 0,
      "outputs": [
        {
          "output_type": "execute_result",
          "data": {
            "text/plain": [
              "0.7619047619047619"
            ]
          },
          "metadata": {
            "tags": []
          },
          "execution_count": 39
        }
      ]
    },
    {
      "cell_type": "code",
      "metadata": {
        "id": "z3MnBHqA58WV",
        "colab_type": "code",
        "outputId": "f5d15467-a279-40e9-d193-79fd56fb0d8d",
        "colab": {
          "base_uri": "https://localhost:8080/",
          "height": 34
        }
      },
      "source": [
        "cross_val_score(loj_model,X_test,y_test,cv=10).mean() # en doğru sonuç elde edildi."
      ],
      "execution_count": 0,
      "outputs": [
        {
          "output_type": "execute_result",
          "data": {
            "text/plain": [
              "0.7704710144927536"
            ]
          },
          "metadata": {
            "tags": []
          },
          "execution_count": 40
        }
      ]
    },
    {
      "cell_type": "code",
      "metadata": {
        "id": "XOyh-U3Z6h8m",
        "colab_type": "code",
        "colab": {}
      },
      "source": [
        "# özünde yapılması gerekenler:\n",
        "# modeli kur. \n",
        "# train test ayır.\n",
        "# test üzerinden cv yap\n",
        "# tüm cv den alınan accuracy değerlerinin ortalamasını al."
      ],
      "execution_count": 0,
      "outputs": []
    },
    {
      "cell_type": "markdown",
      "metadata": {
        "id": "dZpuqBpc9mnl",
        "colab_type": "text"
      },
      "source": [
        "# Gaussian Naive Bayes"
      ]
    },
    {
      "cell_type": "code",
      "metadata": {
        "id": "MScFabZ38HAc",
        "colab_type": "code",
        "colab": {}
      },
      "source": [
        "df = diabetes.copy()\n",
        "df = df.dropna()\n",
        "y = df[\"Outcome\"]\n",
        "X = df.drop(['Outcome'], axis=1)\n",
        "X_train, X_test, y_train, y_test = train_test_split(X, y, \n",
        "                                                    test_size=0.30, \n",
        "                                                    random_state=42)\n"
      ],
      "execution_count": 0,
      "outputs": []
    },
    {
      "cell_type": "code",
      "metadata": {
        "id": "M6ydHSVn9zVX",
        "colab_type": "code",
        "colab": {}
      },
      "source": [
        "from sklearn.naive_bayes import GaussianNB"
      ],
      "execution_count": 0,
      "outputs": []
    },
    {
      "cell_type": "code",
      "metadata": {
        "id": "8U6HtMU595uN",
        "colab_type": "code",
        "colab": {}
      },
      "source": [
        "# bayes algoritmasında da yine optimize edilecek hiper parametre yok"
      ],
      "execution_count": 0,
      "outputs": []
    },
    {
      "cell_type": "code",
      "metadata": {
        "id": "rrEV7X2C-M3p",
        "colab_type": "code",
        "outputId": "cec5f6e7-d2ea-4d44-f2a5-c3101fce7160",
        "colab": {
          "base_uri": "https://localhost:8080/",
          "height": 34
        }
      },
      "source": [
        "nb = GaussianNB()\n",
        "nb_model = nb.fit(X_train, y_train)\n",
        "nb_model"
      ],
      "execution_count": 0,
      "outputs": [
        {
          "output_type": "execute_result",
          "data": {
            "text/plain": [
              "GaussianNB(priors=None, var_smoothing=1e-09)"
            ]
          },
          "metadata": {
            "tags": []
          },
          "execution_count": 45
        }
      ]
    },
    {
      "cell_type": "code",
      "metadata": {
        "id": "OoA1d7bN-jHd",
        "colab_type": "code",
        "colab": {}
      },
      "source": [
        "y_pred = nb_model.predict(X_test)"
      ],
      "execution_count": 0,
      "outputs": []
    },
    {
      "cell_type": "code",
      "metadata": {
        "id": "K2f1idHb-pXT",
        "colab_type": "code",
        "outputId": "e0a9d888-963a-4aca-9974-cde73efc1bda",
        "colab": {
          "base_uri": "https://localhost:8080/",
          "height": 34
        }
      },
      "source": [
        "y_pred[0:10]"
      ],
      "execution_count": 0,
      "outputs": [
        {
          "output_type": "execute_result",
          "data": {
            "text/plain": [
              "array([0, 0, 0, 0, 1, 1, 0, 0, 0, 1])"
            ]
          },
          "metadata": {
            "tags": []
          },
          "execution_count": 47
        }
      ]
    },
    {
      "cell_type": "code",
      "metadata": {
        "id": "54C3gMmM-sOM",
        "colab_type": "code",
        "outputId": "f1a05feb-c856-438c-ba72-32105dc4d79d",
        "colab": {
          "base_uri": "https://localhost:8080/",
          "height": 204
        }
      },
      "source": [
        "y[0:10]"
      ],
      "execution_count": 0,
      "outputs": [
        {
          "output_type": "execute_result",
          "data": {
            "text/plain": [
              "0    1\n",
              "1    0\n",
              "2    1\n",
              "3    0\n",
              "4    1\n",
              "5    0\n",
              "6    1\n",
              "7    0\n",
              "8    1\n",
              "9    1\n",
              "Name: Outcome, dtype: int64"
            ]
          },
          "metadata": {
            "tags": []
          },
          "execution_count": 48
        }
      ]
    },
    {
      "cell_type": "code",
      "metadata": {
        "id": "FA7kr8yM-z8a",
        "colab_type": "code",
        "outputId": "09ea1012-2c63-4bcb-8bdb-5d9c095e47f1",
        "colab": {
          "base_uri": "https://localhost:8080/",
          "height": 187
        }
      },
      "source": [
        "nb_model.predict_proba(X_test)[0:10]"
      ],
      "execution_count": 0,
      "outputs": [
        {
          "output_type": "execute_result",
          "data": {
            "text/plain": [
              "array([[0.73815858, 0.26184142],\n",
              "       [0.94027894, 0.05972106],\n",
              "       [0.97242831, 0.02757169],\n",
              "       [0.82840069, 0.17159931],\n",
              "       [0.47153473, 0.52846527],\n",
              "       [0.47274458, 0.52725542],\n",
              "       [0.99607705, 0.00392295],\n",
              "       [0.69925055, 0.30074945],\n",
              "       [0.53838117, 0.46161883],\n",
              "       [0.25004536, 0.74995464]])"
            ]
          },
          "metadata": {
            "tags": []
          },
          "execution_count": 49
        }
      ]
    },
    {
      "cell_type": "code",
      "metadata": {
        "id": "1DdyyHo1ABfq",
        "colab_type": "code",
        "outputId": "e41bba25-7ea6-4910-f652-4e2113a8a72e",
        "colab": {
          "base_uri": "https://localhost:8080/",
          "height": 34
        }
      },
      "source": [
        "accuracy_score(y_test, y_pred)"
      ],
      "execution_count": 0,
      "outputs": [
        {
          "output_type": "execute_result",
          "data": {
            "text/plain": [
              "0.7445887445887446"
            ]
          },
          "metadata": {
            "tags": []
          },
          "execution_count": 50
        }
      ]
    },
    {
      "cell_type": "code",
      "metadata": {
        "id": "JNcIS1uDAP87",
        "colab_type": "code",
        "outputId": "4534a989-724f-4564-fbed-79e2882c448a",
        "colab": {
          "base_uri": "https://localhost:8080/",
          "height": 34
        }
      },
      "source": [
        "cross_val_score(nb_model, X_test, y_test, cv=10).mean()"
      ],
      "execution_count": 0,
      "outputs": [
        {
          "output_type": "execute_result",
          "data": {
            "text/plain": [
              "0.775"
            ]
          },
          "metadata": {
            "tags": []
          },
          "execution_count": 51
        }
      ]
    },
    {
      "cell_type": "markdown",
      "metadata": {
        "id": "RrJG8-vMpEOi",
        "colab_type": "text"
      },
      "source": [
        "# KNN\n"
      ]
    },
    {
      "cell_type": "markdown",
      "metadata": {
        "id": "V8Ddd-KWqgIl",
        "colab_type": "text"
      },
      "source": [
        "## Model & Tahmin"
      ]
    },
    {
      "cell_type": "code",
      "metadata": {
        "id": "lCft66CvAcij",
        "colab_type": "code",
        "colab": {}
      },
      "source": [
        "df = diabetes.copy()\n",
        "df = df.dropna()\n",
        "y = df[\"Outcome\"]\n",
        "X = df.drop(['Outcome'], axis=1)\n",
        "X_train, X_test, y_train, y_test = train_test_split(X, y, \n",
        "                                                    test_size=0.30, \n",
        "                                                    random_state=42)"
      ],
      "execution_count": 0,
      "outputs": []
    },
    {
      "cell_type": "code",
      "metadata": {
        "id": "ZpE7Qms2ruNx",
        "colab_type": "code",
        "outputId": "261a124d-c11d-48de-ce34-68baf65d3046",
        "colab": {
          "base_uri": "https://localhost:8080/",
          "height": 68
        }
      },
      "source": [
        "knn = KNeighborsClassifier()\n",
        "knn_model = knn.fit(X_train, y_train)\n",
        "knn_model"
      ],
      "execution_count": 0,
      "outputs": [
        {
          "output_type": "execute_result",
          "data": {
            "text/plain": [
              "KNeighborsClassifier(algorithm='auto', leaf_size=30, metric='minkowski',\n",
              "                     metric_params=None, n_jobs=None, n_neighbors=5, p=2,\n",
              "                     weights='uniform')"
            ]
          },
          "metadata": {
            "tags": []
          },
          "execution_count": 53
        }
      ]
    },
    {
      "cell_type": "code",
      "metadata": {
        "id": "EChRgL39r_zR",
        "colab_type": "code",
        "colab": {}
      },
      "source": [
        "y_pred = knn_model.predict(X_test)"
      ],
      "execution_count": 0,
      "outputs": []
    },
    {
      "cell_type": "code",
      "metadata": {
        "id": "AqLruoUhsJxP",
        "colab_type": "code",
        "outputId": "923cf713-e09d-4a54-d9d6-b0a4ba10d99f",
        "colab": {
          "base_uri": "https://localhost:8080/",
          "height": 102
        }
      },
      "source": [
        " knn_model.predict_proba(X_test)[0:5]"
      ],
      "execution_count": 0,
      "outputs": [
        {
          "output_type": "execute_result",
          "data": {
            "text/plain": [
              "array([[0.4, 0.6],\n",
              "       [0.6, 0.4],\n",
              "       [1. , 0. ],\n",
              "       [0.6, 0.4],\n",
              "       [0.6, 0.4]])"
            ]
          },
          "metadata": {
            "tags": []
          },
          "execution_count": 55
        }
      ]
    },
    {
      "cell_type": "code",
      "metadata": {
        "id": "SJXdPDHqsRky",
        "colab_type": "code",
        "outputId": "435f5ed4-9499-482d-87ac-995a881578a4",
        "colab": {
          "base_uri": "https://localhost:8080/",
          "height": 34
        }
      },
      "source": [
        "accuracy_score(y_test, y_pred)"
      ],
      "execution_count": 0,
      "outputs": [
        {
          "output_type": "execute_result",
          "data": {
            "text/plain": [
              "0.6883116883116883"
            ]
          },
          "metadata": {
            "tags": []
          },
          "execution_count": 56
        }
      ]
    },
    {
      "cell_type": "code",
      "metadata": {
        "id": "dPtLlS_0sTiO",
        "colab_type": "code",
        "outputId": "9a78471d-43ca-4d7d-b30d-d25ee0591672",
        "colab": {
          "base_uri": "https://localhost:8080/",
          "height": 170
        }
      },
      "source": [
        "print(classification_report(y_test, y_pred))"
      ],
      "execution_count": 0,
      "outputs": [
        {
          "output_type": "stream",
          "text": [
            "              precision    recall  f1-score   support\n",
            "\n",
            "           0       0.77      0.75      0.76       151\n",
            "           1       0.55      0.56      0.56        80\n",
            "\n",
            "    accuracy                           0.69       231\n",
            "   macro avg       0.66      0.66      0.66       231\n",
            "weighted avg       0.69      0.69      0.69       231\n",
            "\n"
          ],
          "name": "stdout"
        }
      ]
    },
    {
      "cell_type": "markdown",
      "metadata": {
        "id": "hwITE2M_tXqK",
        "colab_type": "text"
      },
      "source": [
        "## Model Tuning"
      ]
    },
    {
      "cell_type": "code",
      "metadata": {
        "id": "xxMrEDVrsz_W",
        "colab_type": "code",
        "colab": {}
      },
      "source": [
        "knn_params = {\"n_neighbors\": np.arange(1,50)}"
      ],
      "execution_count": 0,
      "outputs": []
    },
    {
      "cell_type": "code",
      "metadata": {
        "id": "5JmmE0bZtnC2",
        "colab_type": "code",
        "outputId": "21f42ddb-8b6d-4cc8-cbd5-a818ac0cb307",
        "colab": {
          "base_uri": "https://localhost:8080/",
          "height": 221
        }
      },
      "source": [
        "knn = KNeighborsClassifier()\n",
        "knn_cv = GridSearchCV(knn, knn_params, cv=10)\n",
        "knn_cv.fit(X_train, y_train)"
      ],
      "execution_count": 0,
      "outputs": [
        {
          "output_type": "execute_result",
          "data": {
            "text/plain": [
              "GridSearchCV(cv=10, error_score=nan,\n",
              "             estimator=KNeighborsClassifier(algorithm='auto', leaf_size=30,\n",
              "                                            metric='minkowski',\n",
              "                                            metric_params=None, n_jobs=None,\n",
              "                                            n_neighbors=5, p=2,\n",
              "                                            weights='uniform'),\n",
              "             iid='deprecated', n_jobs=None,\n",
              "             param_grid={'n_neighbors': array([ 1,  2,  3,  4,  5,  6,  7,  8,  9, 10, 11, 12, 13, 14, 15, 16, 17,\n",
              "       18, 19, 20, 21, 22, 23, 24, 25, 26, 27, 28, 29, 30, 31, 32, 33, 34,\n",
              "       35, 36, 37, 38, 39, 40, 41, 42, 43, 44, 45, 46, 47, 48, 49])},\n",
              "             pre_dispatch='2*n_jobs', refit=True, return_train_score=False,\n",
              "             scoring=None, verbose=0)"
            ]
          },
          "metadata": {
            "tags": []
          },
          "execution_count": 59
        }
      ]
    },
    {
      "cell_type": "code",
      "metadata": {
        "id": "j3BbLk8Ct5Vs",
        "colab_type": "code",
        "outputId": "040c72e5-c6cf-4968-a712-7b41d5c774f8",
        "colab": {
          "base_uri": "https://localhost:8080/",
          "height": 34
        }
      },
      "source": [
        "knn_cv.best_params_"
      ],
      "execution_count": 0,
      "outputs": [
        {
          "output_type": "execute_result",
          "data": {
            "text/plain": [
              "{'n_neighbors': 11}"
            ]
          },
          "metadata": {
            "tags": []
          },
          "execution_count": 60
        }
      ]
    },
    {
      "cell_type": "code",
      "metadata": {
        "id": "I4vyyBeiuCzZ",
        "colab_type": "code",
        "outputId": "da8821b8-e3a9-402b-f706-95c8fc50c4ee",
        "colab": {
          "base_uri": "https://localhost:8080/",
          "height": 34
        }
      },
      "source": [
        "knn_cv.best_score_"
      ],
      "execution_count": 0,
      "outputs": [
        {
          "output_type": "execute_result",
          "data": {
            "text/plain": [
              "0.748637316561845"
            ]
          },
          "metadata": {
            "tags": []
          },
          "execution_count": 61
        }
      ]
    },
    {
      "cell_type": "code",
      "metadata": {
        "id": "zCYsDCVYuJCf",
        "colab_type": "code",
        "colab": {}
      },
      "source": [
        "knn_tuned = KNeighborsClassifier(11).fit(X_train, y_train)"
      ],
      "execution_count": 0,
      "outputs": []
    },
    {
      "cell_type": "code",
      "metadata": {
        "id": "zsyEUSjIuW_F",
        "colab_type": "code",
        "outputId": "e07442cd-cdeb-424f-9289-cb1cb5fd387d",
        "colab": {
          "base_uri": "https://localhost:8080/",
          "height": 34
        }
      },
      "source": [
        " knn_tuned.score(X_test, y_test)"
      ],
      "execution_count": 0,
      "outputs": [
        {
          "output_type": "execute_result",
          "data": {
            "text/plain": [
              "0.7316017316017316"
            ]
          },
          "metadata": {
            "tags": []
          },
          "execution_count": 63
        }
      ]
    },
    {
      "cell_type": "code",
      "metadata": {
        "id": "Pfng5fodudDQ",
        "colab_type": "code",
        "colab": {}
      },
      "source": [
        "y_pred = knn_tuned.predict(X_test)"
      ],
      "execution_count": 0,
      "outputs": []
    },
    {
      "cell_type": "code",
      "metadata": {
        "id": "slMMN36VuwhO",
        "colab_type": "code",
        "outputId": "f45b49be-aa4b-4491-f755-d14feb712f85",
        "colab": {
          "base_uri": "https://localhost:8080/",
          "height": 34
        }
      },
      "source": [
        "accuracy_score(y_test, y_pred)"
      ],
      "execution_count": 0,
      "outputs": [
        {
          "output_type": "execute_result",
          "data": {
            "text/plain": [
              "0.7316017316017316"
            ]
          },
          "metadata": {
            "tags": []
          },
          "execution_count": 65
        }
      ]
    },
    {
      "cell_type": "markdown",
      "metadata": {
        "id": "gG0ep3Crn0oY",
        "colab_type": "text"
      },
      "source": [
        "#SVC\n",
        "\n",
        "## Model & Tahmin"
      ]
    },
    {
      "cell_type": "code",
      "metadata": {
        "id": "kRXEvbQ-u5xP",
        "colab_type": "code",
        "colab": {}
      },
      "source": [
        "df = diabetes.copy()\n",
        "df = df.dropna()\n",
        "y = df[\"Outcome\"]\n",
        "X = df.drop(['Outcome'], axis=1)\n",
        "X_train, X_test, y_train, y_test = train_test_split(X, y, \n",
        "                                                    test_size=0.30, \n",
        "                                                    random_state=42)"
      ],
      "execution_count": 0,
      "outputs": []
    },
    {
      "cell_type": "code",
      "metadata": {
        "id": "ODcVN0LcoFLJ",
        "colab_type": "code",
        "colab": {}
      },
      "source": [
        "svm_model = SVC(kernel = \"linear\").fit(X_train, y_train)"
      ],
      "execution_count": 0,
      "outputs": []
    },
    {
      "cell_type": "code",
      "metadata": {
        "id": "fGab5Ex7ov_l",
        "colab_type": "code",
        "colab": {}
      },
      "source": [
        "y_pred = svm_model.predict(X_test)"
      ],
      "execution_count": 0,
      "outputs": []
    },
    {
      "cell_type": "code",
      "metadata": {
        "id": "2flbREEqo7-e",
        "colab_type": "code",
        "outputId": "27a3bc23-55f0-44d4-d12d-54aa1fb627fc",
        "colab": {
          "base_uri": "https://localhost:8080/",
          "height": 34
        }
      },
      "source": [
        "accuracy_score(y_test, y_pred)"
      ],
      "execution_count": 0,
      "outputs": [
        {
          "output_type": "execute_result",
          "data": {
            "text/plain": [
              "0.7445887445887446"
            ]
          },
          "metadata": {
            "tags": []
          },
          "execution_count": 69
        }
      ]
    },
    {
      "cell_type": "markdown",
      "metadata": {
        "id": "WzuRFd29qEiB",
        "colab_type": "text"
      },
      "source": [
        "## Model Tuning"
      ]
    },
    {
      "cell_type": "code",
      "metadata": {
        "id": "kHLaJftcpAlX",
        "colab_type": "code",
        "colab": {}
      },
      "source": [
        "svc_params = {\"C\": np.arange(1,10)} # c deeğeri 0 olmamalı bu yüzzden 1 den başlatıyorum.\n",
        "\n",
        "svc = SVC(kernel = \"linear\")"
      ],
      "execution_count": 0,
      "outputs": []
    },
    {
      "cell_type": "code",
      "metadata": {
        "id": "tTQNQxoCqhEw",
        "colab_type": "code",
        "colab": {}
      },
      "source": [
        "svc_cv_model = GridSearchCV(svc, svc_params, cv = 10, n_jobs = -1, verbose = 2)"
      ],
      "execution_count": 0,
      "outputs": []
    },
    {
      "cell_type": "code",
      "metadata": {
        "id": "KxtBeWqnq0BG",
        "colab_type": "code",
        "outputId": "a122ea31-fbda-4612-c6d1-5ac404385afc",
        "colab": {
          "base_uri": "https://localhost:8080/",
          "height": 272
        }
      },
      "source": [
        "svc_cv_model.fit(X_train, y_train)"
      ],
      "execution_count": 0,
      "outputs": [
        {
          "output_type": "stream",
          "text": [
            "Fitting 10 folds for each of 9 candidates, totalling 90 fits\n"
          ],
          "name": "stdout"
        },
        {
          "output_type": "stream",
          "text": [
            "[Parallel(n_jobs=-1)]: Using backend LokyBackend with 2 concurrent workers.\n",
            "[Parallel(n_jobs=-1)]: Done  37 tasks      | elapsed:  4.0min\n",
            "[Parallel(n_jobs=-1)]: Done  90 out of  90 | elapsed: 21.2min finished\n"
          ],
          "name": "stderr"
        },
        {
          "output_type": "execute_result",
          "data": {
            "text/plain": [
              "GridSearchCV(cv=10, error_score=nan,\n",
              "             estimator=SVC(C=1.0, break_ties=False, cache_size=200,\n",
              "                           class_weight=None, coef0=0.0,\n",
              "                           decision_function_shape='ovr', degree=3,\n",
              "                           gamma='scale', kernel='linear', max_iter=-1,\n",
              "                           probability=False, random_state=None, shrinking=True,\n",
              "                           tol=0.001, verbose=False),\n",
              "             iid='deprecated', n_jobs=-1,\n",
              "             param_grid={'C': array([1, 2, 3, 4, 5, 6, 7, 8, 9])},\n",
              "             pre_dispatch='2*n_jobs', refit=True, return_train_score=False,\n",
              "             scoring=None, verbose=2)"
            ]
          },
          "metadata": {
            "tags": []
          },
          "execution_count": 73
        }
      ]
    },
    {
      "cell_type": "code",
      "metadata": {
        "id": "ZbMrNNEVq5nd",
        "colab_type": "code",
        "outputId": "6c0df97e-946f-40f2-ecc7-018e03532fbc",
        "colab": {
          "base_uri": "https://localhost:8080/",
          "height": 34
        }
      },
      "source": [
        "svc_cv_model.best_params_"
      ],
      "execution_count": 0,
      "outputs": [
        {
          "output_type": "execute_result",
          "data": {
            "text/plain": [
              "{'C': 5}"
            ]
          },
          "metadata": {
            "tags": []
          },
          "execution_count": 74
        }
      ]
    },
    {
      "cell_type": "code",
      "metadata": {
        "id": "ML3c0vFOq_Pn",
        "colab_type": "code",
        "colab": {}
      },
      "source": [
        ""
      ],
      "execution_count": 0,
      "outputs": []
    },
    {
      "cell_type": "code",
      "metadata": {
        "id": "Y7Pb_lj1rOFS",
        "colab_type": "code",
        "colab": {}
      },
      "source": [
        "svc_tuned = SVC(kernel = \"linear\", C=5).fit(X_train, y_train)"
      ],
      "execution_count": 0,
      "outputs": []
    },
    {
      "cell_type": "code",
      "metadata": {
        "id": "wLSL-1QXrqU6",
        "colab_type": "code",
        "colab": {}
      },
      "source": [
        "y_pred = svc_tuned.predict(X_test)"
      ],
      "execution_count": 0,
      "outputs": []
    },
    {
      "cell_type": "code",
      "metadata": {
        "id": "aS2gNOr_rwtG",
        "colab_type": "code",
        "outputId": "85b69b71-fc90-4905-f410-a6ceb3385e41",
        "colab": {
          "base_uri": "https://localhost:8080/",
          "height": 34
        }
      },
      "source": [
        "accuracy_score(y_test, y_pred)"
      ],
      "execution_count": 0,
      "outputs": [
        {
          "output_type": "execute_result",
          "data": {
            "text/plain": [
              "0.7445887445887446"
            ]
          },
          "metadata": {
            "tags": []
          },
          "execution_count": 79
        }
      ]
    },
    {
      "cell_type": "markdown",
      "metadata": {
        "id": "VcxO8LwUwkWz",
        "colab_type": "text"
      },
      "source": [
        "# RBF SVC"
      ]
    },
    {
      "cell_type": "markdown",
      "metadata": {
        "id": "samuhjoowpyf",
        "colab_type": "text"
      },
      "source": [
        "## Model & Tahmin"
      ]
    },
    {
      "cell_type": "code",
      "metadata": {
        "id": "1rjvgDGtwZsS",
        "colab_type": "code",
        "colab": {}
      },
      "source": [
        "# rbf radial bases fonksiyonunu ifade ediyor."
      ],
      "execution_count": 0,
      "outputs": []
    },
    {
      "cell_type": "code",
      "metadata": {
        "id": "nJSzItY_w2wf",
        "colab_type": "code",
        "colab": {}
      },
      "source": [
        "svc_model = SVC(kernel = \"rbf\").fit(X_train, y_train)"
      ],
      "execution_count": 0,
      "outputs": []
    },
    {
      "cell_type": "code",
      "metadata": {
        "id": "Va6_-qD-xAwI",
        "colab_type": "code",
        "colab": {}
      },
      "source": [
        "y_pred = svc_model.predict(X_test)"
      ],
      "execution_count": 0,
      "outputs": []
    },
    {
      "cell_type": "code",
      "metadata": {
        "id": "XVTQ2srAxRSj",
        "colab_type": "code",
        "outputId": "73117445-adfc-4553-ec32-b370c05700de",
        "colab": {
          "base_uri": "https://localhost:8080/",
          "height": 34
        }
      },
      "source": [
        "accuracy_score(y_test, y_pred)"
      ],
      "execution_count": 0,
      "outputs": [
        {
          "output_type": "execute_result",
          "data": {
            "text/plain": [
              "0.7359307359307359"
            ]
          },
          "metadata": {
            "tags": []
          },
          "execution_count": 84
        }
      ]
    },
    {
      "cell_type": "markdown",
      "metadata": {
        "id": "JFbymimpyDf4",
        "colab_type": "text"
      },
      "source": [
        "## Model Tuning"
      ]
    },
    {
      "cell_type": "code",
      "metadata": {
        "id": "2UHZDvOcxaKL",
        "colab_type": "code",
        "outputId": "4dc7843d-9c1c-4a08-ba8f-f61c9b09cd0c",
        "colab": {
          "base_uri": "https://localhost:8080/",
          "height": 289
        }
      },
      "source": [
        "svc_params = {\"C\": [0.0001, 0.001, 0.1, 1, 5, 10 ,50 ,100],\n",
        "             \"gamma\": [0.0001, 0.001, 0.1, 1, 5, 10 ,50 ,100]}\n",
        "\n",
        "svc = SVC()\n",
        "svc_cv_model = GridSearchCV(svc, svc_params, \n",
        "                         cv = 10, \n",
        "                         n_jobs = -1,\n",
        "                         verbose = 2)\n",
        "\n",
        "svc_cv_model.fit(X_train, y_train)"
      ],
      "execution_count": 0,
      "outputs": [
        {
          "output_type": "stream",
          "text": [
            "Fitting 10 folds for each of 64 candidates, totalling 640 fits\n"
          ],
          "name": "stdout"
        },
        {
          "output_type": "stream",
          "text": [
            "[Parallel(n_jobs=-1)]: Using backend LokyBackend with 2 concurrent workers.\n",
            "[Parallel(n_jobs=-1)]: Done 144 tasks      | elapsed:    2.7s\n",
            "[Parallel(n_jobs=-1)]: Done 640 out of 640 | elapsed:    9.4s finished\n"
          ],
          "name": "stderr"
        },
        {
          "output_type": "execute_result",
          "data": {
            "text/plain": [
              "GridSearchCV(cv=10, error_score=nan,\n",
              "             estimator=SVC(C=1.0, break_ties=False, cache_size=200,\n",
              "                           class_weight=None, coef0=0.0,\n",
              "                           decision_function_shape='ovr', degree=3,\n",
              "                           gamma='scale', kernel='rbf', max_iter=-1,\n",
              "                           probability=False, random_state=None, shrinking=True,\n",
              "                           tol=0.001, verbose=False),\n",
              "             iid='deprecated', n_jobs=-1,\n",
              "             param_grid={'C': [0.0001, 0.001, 0.1, 1, 5, 10, 50, 100],\n",
              "                         'gamma': [0.0001, 0.001, 0.1, 1, 5, 10, 50, 100]},\n",
              "             pre_dispatch='2*n_jobs', refit=True, return_train_score=False,\n",
              "             scoring=None, verbose=2)"
            ]
          },
          "metadata": {
            "tags": []
          },
          "execution_count": 89
        }
      ]
    },
    {
      "cell_type": "code",
      "metadata": {
        "id": "-ulu0s0mxjwY",
        "colab_type": "code",
        "outputId": "5b66f5cc-09f3-4a70-c265-82ec5d2184fa",
        "colab": {
          "base_uri": "https://localhost:8080/",
          "height": 34
        }
      },
      "source": [
        "svc_cv_model.best_params_"
      ],
      "execution_count": 0,
      "outputs": [
        {
          "output_type": "execute_result",
          "data": {
            "text/plain": [
              "{'C': 10, 'gamma': 0.0001}"
            ]
          },
          "metadata": {
            "tags": []
          },
          "execution_count": 90
        }
      ]
    },
    {
      "cell_type": "code",
      "metadata": {
        "id": "KfR0JxWEzgem",
        "colab_type": "code",
        "colab": {}
      },
      "source": [
        "svc_tuned = SVC(C=10, gamma = 0.0001).fit(X_train, y_train)"
      ],
      "execution_count": 0,
      "outputs": []
    },
    {
      "cell_type": "code",
      "metadata": {
        "id": "Xz7I6BJvztBY",
        "colab_type": "code",
        "colab": {}
      },
      "source": [
        "y_pred = svc_tuned.predict(X_test)"
      ],
      "execution_count": 0,
      "outputs": []
    },
    {
      "cell_type": "code",
      "metadata": {
        "id": "845yurhr0Afw",
        "colab_type": "code",
        "outputId": "72687ed5-f6ae-4f39-cc9d-c403deafe53d",
        "colab": {
          "base_uri": "https://localhost:8080/",
          "height": 34
        }
      },
      "source": [
        "accuracy_score(y_test, y_pred)"
      ],
      "execution_count": 0,
      "outputs": [
        {
          "output_type": "execute_result",
          "data": {
            "text/plain": [
              "0.7359307359307359"
            ]
          },
          "metadata": {
            "tags": []
          },
          "execution_count": 94
        }
      ]
    },
    {
      "cell_type": "markdown",
      "metadata": {
        "id": "aaQjc4mF0QGm",
        "colab_type": "text"
      },
      "source": [
        "# Yapay Sinir Ağı\n",
        "\n",
        "## Model & Tahmin"
      ]
    },
    {
      "cell_type": "code",
      "metadata": {
        "id": "nRXHAfKG0HlJ",
        "colab_type": "code",
        "colab": {}
      },
      "source": [
        "df = diabetes.copy()\n",
        "df = df.dropna()\n",
        "y = df[\"Outcome\"]\n",
        "X = df.drop(['Outcome'], axis=1)\n",
        "X_train, X_test, y_train, y_test = train_test_split(X, y, \n",
        "                                                    test_size=0.30, \n",
        "                                                    random_state=42)"
      ],
      "execution_count": 0,
      "outputs": []
    },
    {
      "cell_type": "code",
      "metadata": {
        "id": "zFVHp5-z2J_z",
        "colab_type": "code",
        "colab": {}
      },
      "source": [
        "from  sklearn.preprocessing import StandardScaler"
      ],
      "execution_count": 0,
      "outputs": []
    },
    {
      "cell_type": "code",
      "metadata": {
        "id": "Hfu-TqL42RmD",
        "colab_type": "code",
        "colab": {}
      },
      "source": [
        "scaler = StandardScaler()"
      ],
      "execution_count": 0,
      "outputs": []
    },
    {
      "cell_type": "code",
      "metadata": {
        "id": "3tQuqhpN2aIq",
        "colab_type": "code",
        "colab": {}
      },
      "source": [
        "X_train_scaled = scaler.fit_transform(X_train)\n",
        "X_test_scaled = scaler.fit_transform(X_test)"
      ],
      "execution_count": 0,
      "outputs": []
    },
    {
      "cell_type": "code",
      "metadata": {
        "id": "j_8eZ_4K2ouK",
        "colab_type": "code",
        "colab": {}
      },
      "source": [
        "from sklearn.neural_network import MLPClassifier"
      ],
      "execution_count": 0,
      "outputs": []
    },
    {
      "cell_type": "code",
      "metadata": {
        "id": "kG0XElFh3GkK",
        "colab_type": "code",
        "colab": {}
      },
      "source": [
        "mlpc = MLPClassifier().fit(X_train_scaled,y_train)"
      ],
      "execution_count": 0,
      "outputs": []
    },
    {
      "cell_type": "code",
      "metadata": {
        "id": "kWGGxwqU3OM3",
        "colab_type": "code",
        "outputId": "f6003324-0aa2-47a6-b4dd-7dcec766b22a",
        "colab": {
          "base_uri": "https://localhost:8080/",
          "height": 34
        }
      },
      "source": [
        "y_pred = mlpc.predict(X_test_scaled)\n",
        "accuracy_score(y_test, y_pred)"
      ],
      "execution_count": 0,
      "outputs": [
        {
          "output_type": "execute_result",
          "data": {
            "text/plain": [
              "0.7445887445887446"
            ]
          },
          "metadata": {
            "tags": []
          },
          "execution_count": 106
        }
      ]
    },
    {
      "cell_type": "markdown",
      "metadata": {
        "id": "Q2wriquF4Grc",
        "colab_type": "text"
      },
      "source": [
        "## Model Tuning"
      ]
    },
    {
      "cell_type": "code",
      "metadata": {
        "id": "qPH2XTuB3upp",
        "colab_type": "code",
        "outputId": "c464e5b7-c118-4865-d6cc-fab5aa98b66b",
        "colab": {
          "base_uri": "https://localhost:8080/",
          "height": 153
        }
      },
      "source": [
        "mlpc\n",
        "\n",
        "# hidden_layer_size ile katman ve hücre sayısını vermeliyiz.\n",
        "# activation da relu ve logistic i deneyeceğiz\n",
        "# solver ağırlıkların optimizasyonunu yapmak için kullanılır.\n",
        "# learning_rate ağırlık güncellemesi için yöntemi belirler\n",
        "# alpha ceza parametresidir."
      ],
      "execution_count": 0,
      "outputs": [
        {
          "output_type": "execute_result",
          "data": {
            "text/plain": [
              "MLPClassifier(activation='relu', alpha=0.0001, batch_size='auto', beta_1=0.9,\n",
              "              beta_2=0.999, early_stopping=False, epsilon=1e-08,\n",
              "              hidden_layer_sizes=(100,), learning_rate='constant',\n",
              "              learning_rate_init=0.001, max_fun=15000, max_iter=200,\n",
              "              momentum=0.9, n_iter_no_change=10, nesterovs_momentum=True,\n",
              "              power_t=0.5, random_state=None, shuffle=True, solver='adam',\n",
              "              tol=0.0001, validation_fraction=0.1, verbose=False,\n",
              "              warm_start=False)"
            ]
          },
          "metadata": {
            "tags": []
          },
          "execution_count": 110
        }
      ]
    },
    {
      "cell_type": "code",
      "metadata": {
        "id": "DbqtwSIb43fU",
        "colab_type": "code",
        "colab": {}
      },
      "source": [
        "mlpc_params = {\"alpha\": [0.1, 0.01, 0.02, 0.005, 0.0001,0.00001],\n",
        "              \"hidden_layer_sizes\": [(10,10,10),\n",
        "                                     (100,100,100),\n",
        "                                     (100,100),\n",
        "                                     (3,5), \n",
        "                                     (5, 3)],\n",
        "              \"solver\" : [\"lbfgs\",\"adam\",\"sgd\"],\n",
        "              \"activation\": [\"relu\",\"logistic\"]}"
      ],
      "execution_count": 0,
      "outputs": []
    },
    {
      "cell_type": "code",
      "metadata": {
        "id": "t1rD_LlW63ch",
        "colab_type": "code",
        "outputId": "05aebaab-4552-4a2c-c10e-c4c1f37d3803",
        "colab": {
          "base_uri": "https://localhost:8080/",
          "height": 527
        }
      },
      "source": [
        "mlpc = MLPClassifier()\n",
        "mlpc_cv_model = GridSearchCV(mlpc, mlpc_params, cv=10, n_jobs = -1, verbose=2)\n",
        "\n",
        "mlpc_cv_model.fit(X_train_scaled, y_train)"
      ],
      "execution_count": 0,
      "outputs": [
        {
          "output_type": "stream",
          "text": [
            "Fitting 10 folds for each of 180 candidates, totalling 1800 fits\n"
          ],
          "name": "stdout"
        },
        {
          "output_type": "stream",
          "text": [
            "[Parallel(n_jobs=-1)]: Using backend LokyBackend with 2 concurrent workers.\n",
            "[Parallel(n_jobs=-1)]: Done  37 tasks      | elapsed:   19.1s\n",
            "[Parallel(n_jobs=-1)]: Done 158 tasks      | elapsed:  1.4min\n",
            "[Parallel(n_jobs=-1)]: Done 361 tasks      | elapsed:  3.4min\n",
            "[Parallel(n_jobs=-1)]: Done 644 tasks      | elapsed:  5.5min\n",
            "[Parallel(n_jobs=-1)]: Done 1009 tasks      | elapsed:  8.3min\n",
            "[Parallel(n_jobs=-1)]: Done 1454 tasks      | elapsed: 11.1min\n",
            "[Parallel(n_jobs=-1)]: Done 1800 out of 1800 | elapsed: 13.0min finished\n"
          ],
          "name": "stderr"
        },
        {
          "output_type": "execute_result",
          "data": {
            "text/plain": [
              "GridSearchCV(cv=10, error_score=nan,\n",
              "             estimator=MLPClassifier(activation='relu', alpha=0.0001,\n",
              "                                     batch_size='auto', beta_1=0.9,\n",
              "                                     beta_2=0.999, early_stopping=False,\n",
              "                                     epsilon=1e-08, hidden_layer_sizes=(100,),\n",
              "                                     learning_rate='constant',\n",
              "                                     learning_rate_init=0.001, max_fun=15000,\n",
              "                                     max_iter=200, momentum=0.9,\n",
              "                                     n_iter_no_change=10,\n",
              "                                     nesterovs_momentum=True, power_t=0.5,\n",
              "                                     random_stat...\n",
              "                                     validation_fraction=0.1, verbose=False,\n",
              "                                     warm_start=False),\n",
              "             iid='deprecated', n_jobs=-1,\n",
              "             param_grid={'activation': ['relu', 'logistic'],\n",
              "                         'alpha': [0.1, 0.01, 0.02, 0.005, 0.0001, 1e-05],\n",
              "                         'hidden_layer_sizes': [(10, 10, 10), (100, 100, 100),\n",
              "                                                (100, 100), (3, 5), (5, 3)],\n",
              "                         'solver': ['lbfgs', 'adam', 'sgd']},\n",
              "             pre_dispatch='2*n_jobs', refit=True, return_train_score=False,\n",
              "             scoring=None, verbose=2)"
            ]
          },
          "metadata": {
            "tags": []
          },
          "execution_count": 113
        }
      ]
    },
    {
      "cell_type": "code",
      "metadata": {
        "id": "b_3i4MGp7R0J",
        "colab_type": "code",
        "outputId": "1a245f6f-d276-4831-fd76-1583b3f831d7",
        "colab": {
          "base_uri": "https://localhost:8080/",
          "height": 85
        }
      },
      "source": [
        "mlpc_cv_model.best_params_"
      ],
      "execution_count": 0,
      "outputs": [
        {
          "output_type": "execute_result",
          "data": {
            "text/plain": [
              "{'activation': 'relu',\n",
              " 'alpha': 1e-05,\n",
              " 'hidden_layer_sizes': (10, 10, 10),\n",
              " 'solver': 'adam'}"
            ]
          },
          "metadata": {
            "tags": []
          },
          "execution_count": 114
        }
      ]
    },
    {
      "cell_type": "code",
      "metadata": {
        "id": "GUwnjHgQ7hTS",
        "colab_type": "code",
        "colab": {}
      },
      "source": [
        "mlpc_tuned = MLPClassifier(activation = 'relu',alpha = 0,hidden_layer_sizes=(10,10,10) ,\n",
        "                           solver= 'adam' )"
      ],
      "execution_count": 0,
      "outputs": []
    },
    {
      "cell_type": "code",
      "metadata": {
        "id": "0-vpgiFw8f9b",
        "colab_type": "code",
        "outputId": "39db9ba1-1f02-4808-b5cf-45589d9d2b00",
        "colab": {
          "base_uri": "https://localhost:8080/",
          "height": 153
        }
      },
      "source": [
        "mlpc_tuned.fit(X_train_scaled,y_train)"
      ],
      "execution_count": 0,
      "outputs": [
        {
          "output_type": "execute_result",
          "data": {
            "text/plain": [
              "MLPClassifier(activation='relu', alpha=0, batch_size='auto', beta_1=0.9,\n",
              "              beta_2=0.999, early_stopping=False, epsilon=1e-08,\n",
              "              hidden_layer_sizes=(10, 10, 10), learning_rate='constant',\n",
              "              learning_rate_init=0.001, max_fun=15000, max_iter=200,\n",
              "              momentum=0.9, n_iter_no_change=10, nesterovs_momentum=True,\n",
              "              power_t=0.5, random_state=None, shuffle=True, solver='adam',\n",
              "              tol=0.0001, validation_fraction=0.1, verbose=False,\n",
              "              warm_start=False)"
            ]
          },
          "metadata": {
            "tags": []
          },
          "execution_count": 120
        }
      ]
    },
    {
      "cell_type": "code",
      "metadata": {
        "id": "f35sP7228sLz",
        "colab_type": "code",
        "outputId": "234428b8-118d-489e-b59a-737cc89f3a19",
        "colab": {
          "base_uri": "https://localhost:8080/",
          "height": 34
        }
      },
      "source": [
        "y_pred = mlpc_tuned.predict(X_test_scaled)\n",
        "accuracy_score(y_test, y_pred)"
      ],
      "execution_count": 0,
      "outputs": [
        {
          "output_type": "execute_result",
          "data": {
            "text/plain": [
              "0.7272727272727273"
            ]
          },
          "metadata": {
            "tags": []
          },
          "execution_count": 121
        }
      ]
    },
    {
      "cell_type": "markdown",
      "metadata": {
        "id": "-_ca1H3J4Cah",
        "colab_type": "text"
      },
      "source": [
        "## CART - Model & Tahmin"
      ]
    },
    {
      "cell_type": "code",
      "metadata": {
        "id": "KB__X30u87SX",
        "colab_type": "code",
        "colab": {}
      },
      "source": [
        "df = diabetes.copy()\n",
        "df = df.dropna()\n",
        "y = df[\"Outcome\"]\n",
        "X = df.drop(['Outcome'], axis=1)\n",
        "#X = df[\"Pregnancies\"]  # örnek amaçlı az değişkenle bir bakalım.\n",
        "X = pd.DataFrame(X)\n",
        "X_train, X_test, y_train, y_test = train_test_split(X, y, \n",
        "                                                    test_size=0.30, \n",
        "                                                    random_state=42)"
      ],
      "execution_count": 0,
      "outputs": []
    },
    {
      "cell_type": "code",
      "metadata": {
        "id": "XN7WOT844R4A",
        "colab_type": "code",
        "colab": {}
      },
      "source": [
        "from sklearn.tree import DecisionTreeClassifier"
      ],
      "execution_count": 0,
      "outputs": []
    },
    {
      "cell_type": "code",
      "metadata": {
        "id": "a-c7TyDy4WKL",
        "colab_type": "code",
        "outputId": "6c0ad976-b6e4-4a3f-9b03-954944326778",
        "colab": {
          "base_uri": "https://localhost:8080/",
          "height": 119
        }
      },
      "source": [
        "cart = DecisionTreeClassifier()\n",
        "cart_model = cart.fit(X_train, y_train)\n",
        "cart_model"
      ],
      "execution_count": 0,
      "outputs": [
        {
          "output_type": "execute_result",
          "data": {
            "text/plain": [
              "DecisionTreeClassifier(ccp_alpha=0.0, class_weight=None, criterion='gini',\n",
              "                       max_depth=None, max_features=None, max_leaf_nodes=None,\n",
              "                       min_impurity_decrease=0.0, min_impurity_split=None,\n",
              "                       min_samples_leaf=1, min_samples_split=2,\n",
              "                       min_weight_fraction_leaf=0.0, presort='deprecated',\n",
              "                       random_state=None, splitter='best')"
            ]
          },
          "metadata": {
            "tags": []
          },
          "execution_count": 44
        }
      ]
    },
    {
      "cell_type": "code",
      "metadata": {
        "id": "TCzLf6gD4ekx",
        "colab_type": "code",
        "outputId": "aa1382cb-5575-4ead-d3f1-bb311e50f582",
        "colab": {
          "base_uri": "https://localhost:8080/",
          "height": 102
        }
      },
      "source": [
        "! pip install skompiler\n",
        "from skompiler import skompile  # karar kuralını almak için"
      ],
      "execution_count": 0,
      "outputs": [
        {
          "output_type": "stream",
          "text": [
            "Requirement already satisfied: skompiler in /usr/local/lib/python3.6/dist-packages (0.5.5)\n",
            "Requirement already satisfied: scikit-learn in /usr/local/lib/python3.6/dist-packages (from skompiler) (0.22.2.post1)\n",
            "Requirement already satisfied: numpy>=1.11.0 in /usr/local/lib/python3.6/dist-packages (from scikit-learn->skompiler) (1.18.3)\n",
            "Requirement already satisfied: scipy>=0.17.0 in /usr/local/lib/python3.6/dist-packages (from scikit-learn->skompiler) (1.4.1)\n",
            "Requirement already satisfied: joblib>=0.11 in /usr/local/lib/python3.6/dist-packages (from scikit-learn->skompiler) (0.14.1)\n"
          ],
          "name": "stdout"
        }
      ]
    },
    {
      "cell_type": "code",
      "metadata": {
        "id": "_oEC1dEq484W",
        "colab_type": "code",
        "outputId": "2dc012a9-55fb-4da4-80d6-8cbde4ce360a",
        "colab": {
          "base_uri": "https://localhost:8080/",
          "height": 663
        }
      },
      "source": [
        "print(skompile(cart_model.predict).to(\"python/code\"))"
      ],
      "execution_count": 0,
      "outputs": [
        {
          "output_type": "stream",
          "text": [
            "((((((0 if x[6] <= 0.671999990940094 else 1 if x[6] <= 0.6974999904632568 else\n",
            "    0) if x[5] <= 31.40000057220459 else ((0 if x[3] <= 40.5 else 1) if x[1\n",
            "    ] <= 111.5 else ((0 if x[5] <= 32.59999942779541 else 1) if x[2] <= \n",
            "    65.0 else 0) if x[2] <= 72.0 else 1) if x[4] <= 9.0 else (0 if x[6] <= \n",
            "    0.6395000219345093 else 1 if x[6] <= 0.6759999990463257 else 0) if x[0] <=\n",
            "    4.5 else 0 if x[3] <= 40.5 else 1) if x[5] <= 49.10000038146973 else 1) if\n",
            "    x[1] <= 127.5 else 1 if x[2] <= 56.0 else (0 if x[7] <= 27.5 else 1 if \n",
            "    x[5] <= 28.149999618530273 else 0) if x[5] <= 30.300000190734863 else 1 if\n",
            "    x[5] <= 32.000000953674316 else ((0 if x[5] <= 33.75 else 1) if x[0] <=\n",
            "    0.5 else 1 if x[5] <= 32.45000076293945 else 0) if x[2] <= 85.0 else 1) if\n",
            "    x[7] <= 28.5 else (1 if x[7] <= 29.5 else (1 if x[6] <= \n",
            "    0.4359999895095825 else 0) if x[5] <= 9.649999618530273 else 0 if x[1] <=\n",
            "    133.0 else (1 if x[7] <= 70.5 else 0) if x[1] <= 135.0 else 0) if x[5] <=\n",
            "    26.949999809265137 else (1 if x[1] <= 28.5 else 0 if x[0] <= 9.5 else 0 if\n",
            "    x[6] <= 0.29099999368190765 else 1 if x[4] <= 27.0 else 0) if x[1] <= \n",
            "    94.5 else ((((0 if x[6] <= 0.24950000643730164 else 0 if x[2] <= 65.0 else\n",
            "    1) if x[5] <= 28.34999942779541 else 1 if x[5] <= 31.15000057220459 else\n",
            "    (1 if x[6] <= 0.29499999433755875 else 0) if x[7] <= 36.5 else (0 if x[\n",
            "    0] <= 5.5 else 1) if x[6] <= 0.21000000089406967 else 1 if x[0] <= 9.0 else\n",
            "    0 if x[6] <= 0.26500000059604645 else 1) if x[3] <= 26.5 else ((0 if x[\n",
            "    3] <= 29.5 else 0 if x[2] <= 45.0 else 1) if x[2] <= 67.0 else 0 if x[2\n",
            "    ] <= 80.0 else 0 if x[1] <= 109.0 else 1) if x[1] <= 127.5 else (0 if x\n",
            "    [3] <= 31.0 else 1) if x[6] <= 0.3110000044107437 else 1) if x[2] <= \n",
            "    83.0 else ((0 if x[3] <= 39.5 else 1 if x[0] <= 6.0 else 0) if x[5] <= \n",
            "    41.19999885559082 else 1) if x[4] <= 124.0 else 0 if x[3] <= 19.5 else \n",
            "    1) if x[6] <= 0.527999997138977 else ((((0 if x[7] <= 32.5 else 1) if x\n",
            "    [5] <= 27.34999942779541 else 1) if x[1] <= 132.0 else 0) if x[5] <= \n",
            "    29.09999942779541 else 0 if x[2] <= 86.0 else 1) if x[5] <= \n",
            "    31.600000381469727 else ((1 if x[2] <= 87.0 else 0 if x[7] <= 31.5 else\n",
            "    1) if x[3] <= 54.5 else 0) if x[6] <= 1.1489999890327454 else 1 if x[7] <=\n",
            "    36.0 else 0) if x[1] <= 154.5 else (1 if x[5] <= 25.350000381469727 else\n",
            "    0 if x[6] <= 0.3684999942779541 else 1 if x[1] <= 179.5 else 0 if x[1] <=\n",
            "    195.5 else 1) if x[5] <= 28.700000762939453 else (((((1 if x[6] <= \n",
            "    0.2695000022649765 else 0) if x[4] <= 180.0 else 0) if x[4] <= 457.0 else\n",
            "    1) if x[7] <= 30.5 else 1) if x[6] <= 0.3044999986886978 else (1 if x[1\n",
            "    ] <= 164.5 else 0) if x[1] <= 165.5 else 1) if x[6] <= \n",
            "    1.4275000095367432 else 1 if x[1] <= 181.5 else 0)\n",
            "\n"
          ],
          "name": "stdout"
        }
      ]
    },
    {
      "cell_type": "code",
      "metadata": {
        "id": "LNGbre176FDJ",
        "colab_type": "code",
        "colab": {}
      },
      "source": [
        "X = [3]"
      ],
      "execution_count": 0,
      "outputs": []
    },
    {
      "cell_type": "code",
      "metadata": {
        "id": "EhybWL4I6SIX",
        "colab_type": "code",
        "outputId": "c3b5e968-dc6c-4867-aedb-b48b664f6f9b",
        "colab": {
          "base_uri": "https://localhost:8080/",
          "height": 34
        }
      },
      "source": [
        "((0 if x[0] <= 2.5 else 0) if x[0] <= 6.5 else 1 if x[0] <= 13.5 else 1)"
      ],
      "execution_count": 0,
      "outputs": [
        {
          "output_type": "execute_result",
          "data": {
            "text/plain": [
              "0"
            ]
          },
          "metadata": {
            "tags": []
          },
          "execution_count": 36
        }
      ]
    },
    {
      "cell_type": "code",
      "metadata": {
        "id": "lK47wYbg6UyY",
        "colab_type": "code",
        "colab": {}
      },
      "source": [
        "y_pred = cart_model.predict(X_test)\n",
        "accuracy_score(y_test, y_pred)"
      ],
      "execution_count": 0,
      "outputs": []
    },
    {
      "cell_type": "markdown",
      "metadata": {
        "id": "jvaOEHOI8AvZ",
        "colab_type": "text"
      },
      "source": [
        "## Model Tuning"
      ]
    },
    {
      "cell_type": "code",
      "metadata": {
        "id": "5-Cp2DPq7tgn",
        "colab_type": "code",
        "colab": {}
      },
      "source": [
        "?cart_model\n",
        "# max depth karmaşıklığı kontorol eden bir prametredir.\n",
        "# min_sample_split: bölünme için gerekli olan minimum örnek sayısı\n",
        "# min_sample_leaf : leaf node denilen en son  nodelarda barındırılacak eleman sayısını ifade eder."
      ],
      "execution_count": 0,
      "outputs": []
    },
    {
      "cell_type": "code",
      "metadata": {
        "id": "S0W6M2D-8Gh6",
        "colab_type": "code",
        "colab": {}
      },
      "source": [
        "cart_grid = {\"max_depth\": list(range(1,10)),\n",
        "             \"min_sample_split\": range(2,50)}\n",
        "            "
      ],
      "execution_count": 0,
      "outputs": []
    },
    {
      "cell_type": "code",
      "metadata": {
        "id": "GOAIXivY-Uq_",
        "colab_type": "code",
        "colab": {}
      },
      "source": [
        "cart = DecisionTreeClassifier()\n",
        "cart_cv_model = GridSearchCV(cart, cart_grid, cv=10, n_jobs=-1, verbose=2).fit(X_test, y_train)"
      ],
      "execution_count": 0,
      "outputs": []
    },
    {
      "cell_type": "code",
      "metadata": {
        "id": "jEkEQ_gD-jKm",
        "colab_type": "code",
        "colab": {}
      },
      "source": [
        "cart_tuned =DecisionTreeClassifier(max_depth=5, min_samples_split=19)"
      ],
      "execution_count": 0,
      "outputs": []
    },
    {
      "cell_type": "code",
      "metadata": {
        "id": "S5_35y5C_3mf",
        "colab_type": "code",
        "colab": {}
      },
      "source": [
        "cart_tuned=cart_tuned.fit(X_train, y_train)"
      ],
      "execution_count": 0,
      "outputs": []
    },
    {
      "cell_type": "code",
      "metadata": {
        "id": "uUJiNVxuAATE",
        "colab_type": "code",
        "outputId": "d19e1056-5a79-49ef-bc9e-d84a1e5fac6f",
        "colab": {
          "base_uri": "https://localhost:8080/",
          "height": 34
        }
      },
      "source": [
        "y_pred = cart_tuned.predict(X_test)\n",
        "accuracy_score(y_test, y_pred)"
      ],
      "execution_count": 0,
      "outputs": [
        {
          "output_type": "execute_result",
          "data": {
            "text/plain": [
              "0.7532467532467533"
            ]
          },
          "metadata": {
            "tags": []
          },
          "execution_count": 63
        }
      ]
    },
    {
      "cell_type": "markdown",
      "metadata": {
        "id": "8L6qTTusAVbW",
        "colab_type": "text"
      },
      "source": [
        "# Random Forest"
      ]
    },
    {
      "cell_type": "code",
      "metadata": {
        "id": "RDfyiMSNAKmY",
        "colab_type": "code",
        "colab": {}
      },
      "source": [
        "df = diabetes.copy()\n",
        "df = df.dropna()\n",
        "y = df[\"Outcome\"]\n",
        "X = df.drop(['Outcome'], axis=1)\n",
        "#X = df[\"Pregnancies\"]  # örnek amaçlı az değişkenle bir bakalım.\n",
        "X = pd.DataFrame(X)\n",
        "X_train, X_test, y_train, y_test = train_test_split(X, y, \n",
        "                                                    test_size=0.30, \n",
        "                                                    random_state=42)"
      ],
      "execution_count": 0,
      "outputs": []
    },
    {
      "cell_type": "code",
      "metadata": {
        "id": "NvTijtCyBvQG",
        "colab_type": "code",
        "colab": {}
      },
      "source": [
        "from sklearn.ensemble import RandomForestClassifier"
      ],
      "execution_count": 0,
      "outputs": []
    },
    {
      "cell_type": "code",
      "metadata": {
        "id": "04eFjf_3B5UU",
        "colab_type": "code",
        "colab": {}
      },
      "source": [
        "rf_model = RandomForestClassifier().fit(X_train, y_train)"
      ],
      "execution_count": 0,
      "outputs": []
    },
    {
      "cell_type": "code",
      "metadata": {
        "id": "7szW1GcKCAj6",
        "colab_type": "code",
        "outputId": "22276f76-9571-4ce3-bf42-afb9e1052192",
        "colab": {
          "base_uri": "https://localhost:8080/",
          "height": 34
        }
      },
      "source": [
        "y_pred = rf_model.predict(X_test)\n",
        "accuracy_score(y_test, y_pred)"
      ],
      "execution_count": 0,
      "outputs": [
        {
          "output_type": "execute_result",
          "data": {
            "text/plain": [
              "0.7489177489177489"
            ]
          },
          "metadata": {
            "tags": []
          },
          "execution_count": 67
        }
      ]
    },
    {
      "cell_type": "markdown",
      "metadata": {
        "id": "C5hwdZPxCPl-",
        "colab_type": "text"
      },
      "source": [
        "## Model Tuning"
      ]
    },
    {
      "cell_type": "code",
      "metadata": {
        "id": "l_F-w51YCIOi",
        "colab_type": "code",
        "colab": {}
      },
      "source": [
        "?rf_model\n",
        "\n",
        "# en önemli parametrler ağaç sayısı (n_estimators) ve \n",
        "# bölünmelerde göz önünde bulunacak değişken sayısı (max_features)\n",
        "# min_sample_split"
      ],
      "execution_count": 0,
      "outputs": []
    },
    {
      "cell_type": "code",
      "metadata": {
        "id": "rDuD62ToCX1O",
        "colab_type": "code",
        "colab": {}
      },
      "source": [
        "rf_params = {\"max_depth\": [2,3,5,8,10],\n",
        "             \"max_features\":[2,5,8],\n",
        "             \"n_estimators\":[10,500,1000],\n",
        "             \"min_samples_split\":[2,5,10]}"
      ],
      "execution_count": 0,
      "outputs": []
    },
    {
      "cell_type": "code",
      "metadata": {
        "id": "_GgiyDx7IXnn",
        "colab_type": "code",
        "colab": {}
      },
      "source": [
        "rf_model = RandomForestClassifier()\n",
        "\n",
        "rf_cv_model = GridSearchCV(rf_model, \n",
        "                           rf_params, \n",
        "                           cv = 10, \n",
        "                           n_jobs = -1, \n",
        "                           verbose = 2) "
      ],
      "execution_count": 0,
      "outputs": []
    },
    {
      "cell_type": "code",
      "metadata": {
        "id": "msS1sUb6IdAd",
        "colab_type": "code",
        "outputId": "16d374be-537e-4f66-8289-0cfa0b055164",
        "colab": {
          "base_uri": "https://localhost:8080/",
          "height": 544
        }
      },
      "source": [
        "rf_cv_model.fit(X_train, y_train)"
      ],
      "execution_count": 0,
      "outputs": [
        {
          "output_type": "stream",
          "text": [
            "Fitting 10 folds for each of 135 candidates, totalling 1350 fits\n"
          ],
          "name": "stdout"
        },
        {
          "output_type": "stream",
          "text": [
            "[Parallel(n_jobs=-1)]: Using backend LokyBackend with 2 concurrent workers.\n",
            "[Parallel(n_jobs=-1)]: Done  37 tasks      | elapsed:   19.4s\n",
            "[Parallel(n_jobs=-1)]: Done 158 tasks      | elapsed:  1.6min\n",
            "[Parallel(n_jobs=-1)]: Done 361 tasks      | elapsed:  3.9min\n",
            "[Parallel(n_jobs=-1)]: Done 644 tasks      | elapsed:  7.0min\n",
            "[Parallel(n_jobs=-1)]: Done 1009 tasks      | elapsed: 11.8min\n",
            "[Parallel(n_jobs=-1)]: Done 1350 out of 1350 | elapsed: 16.7min finished\n"
          ],
          "name": "stderr"
        },
        {
          "output_type": "execute_result",
          "data": {
            "text/plain": [
              "GridSearchCV(cv=10, error_score=nan,\n",
              "             estimator=RandomForestClassifier(bootstrap=True, ccp_alpha=0.0,\n",
              "                                              class_weight=None,\n",
              "                                              criterion='gini', max_depth=None,\n",
              "                                              max_features='auto',\n",
              "                                              max_leaf_nodes=None,\n",
              "                                              max_samples=None,\n",
              "                                              min_impurity_decrease=0.0,\n",
              "                                              min_impurity_split=None,\n",
              "                                              min_samples_leaf=1,\n",
              "                                              min_samples_split=2,\n",
              "                                              min_weight_fraction_leaf=0.0,\n",
              "                                              n_estimators=100, n_jobs=None,\n",
              "                                              oob_score=False,\n",
              "                                              random_state=None, verbose=0,\n",
              "                                              warm_start=False),\n",
              "             iid='deprecated', n_jobs=-1,\n",
              "             param_grid={'max_depth': [2, 3, 5, 8, 10],\n",
              "                         'max_features': [2, 5, 8],\n",
              "                         'min_samples_split': [2, 5, 10],\n",
              "                         'n_estimators': [10, 500, 1000]},\n",
              "             pre_dispatch='2*n_jobs', refit=True, return_train_score=False,\n",
              "             scoring=None, verbose=2)"
            ]
          },
          "metadata": {
            "tags": []
          },
          "execution_count": 76
        }
      ]
    },
    {
      "cell_type": "code",
      "metadata": {
        "id": "mDn90bFRJEX9",
        "colab_type": "code",
        "outputId": "f74ab985-b7bb-4bb6-ee03-c7aced9a43e8",
        "colab": {
          "base_uri": "https://localhost:8080/",
          "height": 85
        }
      },
      "source": [
        "\n",
        "rf_cv_model.best_params_"
      ],
      "execution_count": 0,
      "outputs": [
        {
          "output_type": "execute_result",
          "data": {
            "text/plain": [
              "{'max_depth': 8,\n",
              " 'max_features': 2,\n",
              " 'min_samples_split': 10,\n",
              " 'n_estimators': 10}"
            ]
          },
          "metadata": {
            "tags": []
          },
          "execution_count": 77
        }
      ]
    },
    {
      "cell_type": "code",
      "metadata": {
        "id": "ImC5kW50PTDV",
        "colab_type": "code",
        "outputId": "45c7908e-efff-4302-ef66-9d748aecd3fc",
        "colab": {
          "base_uri": "https://localhost:8080/",
          "height": 153
        }
      },
      "source": [
        "rf_tuned = RandomForestClassifier(max_depth = 8, \n",
        "                                  max_features = 2,\n",
        "                                  min_samples_split = 10,\n",
        "                                  n_estimators = 10)\n",
        "rf_tuned.fit(X_train, y_train)"
      ],
      "execution_count": 0,
      "outputs": [
        {
          "output_type": "execute_result",
          "data": {
            "text/plain": [
              "RandomForestClassifier(bootstrap=True, ccp_alpha=0.0, class_weight=None,\n",
              "                       criterion='gini', max_depth=8, max_features=2,\n",
              "                       max_leaf_nodes=None, max_samples=None,\n",
              "                       min_impurity_decrease=0.0, min_impurity_split=None,\n",
              "                       min_samples_leaf=1, min_samples_split=10,\n",
              "                       min_weight_fraction_leaf=0.0, n_estimators=10,\n",
              "                       n_jobs=None, oob_score=False, random_state=None,\n",
              "                       verbose=0, warm_start=False)"
            ]
          },
          "metadata": {
            "tags": []
          },
          "execution_count": 79
        }
      ]
    },
    {
      "cell_type": "code",
      "metadata": {
        "id": "GS4kOqEkPy0U",
        "colab_type": "code",
        "outputId": "f2988e42-25d6-4357-a13a-bde49befa9c7",
        "colab": {
          "base_uri": "https://localhost:8080/",
          "height": 34
        }
      },
      "source": [
        "y_pred = rf_tuned.predict(X_test)\n",
        "accuracy_score(y_test, y_pred)"
      ],
      "execution_count": 0,
      "outputs": [
        {
          "output_type": "execute_result",
          "data": {
            "text/plain": [
              "0.7272727272727273"
            ]
          },
          "metadata": {
            "tags": []
          },
          "execution_count": 80
        }
      ]
    },
    {
      "cell_type": "code",
      "metadata": {
        "id": "7T4r-45yQJPy",
        "colab_type": "code",
        "colab": {}
      },
      "source": [
        "Importance = pd.DataFrame({\"Importance\": rf_tuned.feature_importances_*100},\n",
        "                         index = X_train.columns)"
      ],
      "execution_count": 0,
      "outputs": []
    },
    {
      "cell_type": "code",
      "metadata": {
        "id": "6JyhRvrpQvzl",
        "colab_type": "code",
        "outputId": "17c9a81e-4b1d-417a-aa75-81ce40f248c0",
        "colab": {
          "base_uri": "https://localhost:8080/",
          "height": 298
        }
      },
      "source": [
        "Importance.sort_values(by = \"Importance\", \n",
        "                       axis = 0, \n",
        "                       ascending = True).plot(kind =\"barh\", color = \"r\")\n",
        "\n",
        "plt.xlabel(\"Değişken Önem Düzeyleri\")"
      ],
      "execution_count": 0,
      "outputs": [
        {
          "output_type": "execute_result",
          "data": {
            "text/plain": [
              "Text(0.5, 0, 'Değişken Önem Düzeyleri')"
            ]
          },
          "metadata": {
            "tags": []
          },
          "execution_count": 82
        },
        {
          "output_type": "display_data",
          "data": {
            "image/png": "[encoded data removed]",
            "text/plain": [
              "<Figure size 432x288 with 1 Axes>"
            ]
          },
          "metadata": {
            "tags": [],
            "needs_background": "light"
          }
        }
      ]
    },
    {
      "cell_type": "markdown",
      "metadata": {
        "id": "XaDvwrEPSfiU",
        "colab_type": "text"
      },
      "source": [
        "# Graient Boosting Machines"
      ]
    },
    {
      "cell_type": "code",
      "metadata": {
        "id": "B79a28U6Q1HT",
        "colab_type": "code",
        "colab": {}
      },
      "source": [
        "df = diabetes.copy()\n",
        "df = df.dropna()\n",
        "y = df[\"Outcome\"]\n",
        "X = df.drop(['Outcome'], axis=1)\n",
        "#X = df[\"Pregnancies\"]  # örnek amaçlı az değişkenle bir bakalım.\n",
        "X = pd.DataFrame(X)\n",
        "X_train, X_test, y_train, y_test = train_test_split(X, y, \n",
        "                                                    test_size=0.30, )"
      ],
      "execution_count": 0,
      "outputs": []
    },
    {
      "cell_type": "code",
      "metadata": {
        "id": "lwHOZVsOTYP-",
        "colab_type": "code",
        "colab": {}
      },
      "source": [
        "from sklearn.ensemble import GradientBoostingClassifier"
      ],
      "execution_count": 0,
      "outputs": []
    },
    {
      "cell_type": "code",
      "metadata": {
        "id": "1Ss5PZrdThoI",
        "colab_type": "code",
        "colab": {}
      },
      "source": [
        "gbm_model = GradientBoostingClassifier().fit(X_train, y_train)"
      ],
      "execution_count": 0,
      "outputs": []
    },
    {
      "cell_type": "code",
      "metadata": {
        "id": "4n8K1uaWTsQZ",
        "colab_type": "code",
        "outputId": "d5cad81f-1873-4670-801d-cfe08d1877ec",
        "colab": {
          "base_uri": "https://localhost:8080/",
          "height": 34
        }
      },
      "source": [
        "y_pred = gbm_model.predict(X_test)\n",
        "accuracy_score(y_test, y_pred)\n"
      ],
      "execution_count": 0,
      "outputs": [
        {
          "output_type": "execute_result",
          "data": {
            "text/plain": [
              "0.7532467532467533"
            ]
          },
          "metadata": {
            "tags": []
          },
          "execution_count": 88
        }
      ]
    },
    {
      "cell_type": "markdown",
      "metadata": {
        "id": "LH6-Nx6CT8ZG",
        "colab_type": "text"
      },
      "source": [
        "## Model Tuning"
      ]
    },
    {
      "cell_type": "code",
      "metadata": {
        "id": "eVXRyzFMT0M1",
        "colab_type": "code",
        "outputId": "26ef80cc-ed02-47ce-cbb6-1869c72f1701",
        "colab": {
          "base_uri": "https://localhost:8080/",
          "height": 187
        }
      },
      "source": [
        "gbm_model\n",
        "\n",
        "# leaning rate önemli\n",
        "# n_estimators ağaç sayısını deneyeceğiz\n",
        "# subsamble çok fazla değişken olduğunda mantıklı olbilir ama şu an 1 olarak yani hespini alacağız\n",
        "# min_sapmples\n",
        "# min_samples_leaf\n",
        "# min_sample_split\n",
        "# max_depth"
      ],
      "execution_count": 0,
      "outputs": [
        {
          "output_type": "execute_result",
          "data": {
            "text/plain": [
              "GradientBoostingClassifier(ccp_alpha=0.0, criterion='friedman_mse', init=None,\n",
              "                           learning_rate=0.1, loss='deviance', max_depth=3,\n",
              "                           max_features=None, max_leaf_nodes=None,\n",
              "                           min_impurity_decrease=0.0, min_impurity_split=None,\n",
              "                           min_samples_leaf=1, min_samples_split=2,\n",
              "                           min_weight_fraction_leaf=0.0, n_estimators=100,\n",
              "                           n_iter_no_change=None, presort='deprecated',\n",
              "                           random_state=None, subsample=1.0, tol=0.0001,\n",
              "                           validation_fraction=0.1, verbose=0,\n",
              "                           warm_start=False)"
            ]
          },
          "metadata": {
            "tags": []
          },
          "execution_count": 90
        }
      ]
    },
    {
      "cell_type": "code",
      "metadata": {
        "id": "HDzI1sE2UFRA",
        "colab_type": "code",
        "colab": {}
      },
      "source": [
        "gbm_params = {\"learning_rate\" : [0.001, 0.01, 0.1, 0.05],\n",
        "             \"n_estimators\": [100,500,1000],\n",
        "             \"max_depth\": [3,5,10],\n",
        "             \"min_samples_split\": [2,5,10]}"
      ],
      "execution_count": 0,
      "outputs": []
    },
    {
      "cell_type": "code",
      "metadata": {
        "id": "jEMUDB8EU6Bp",
        "colab_type": "code",
        "colab": {}
      },
      "source": [
        "gbm = GradientBoostingClassifier()\n",
        "gbm_cv = GridSearchCV(gbm, gbm_params, cv=10, n_jobs= -1, verbose = 2)"
      ],
      "execution_count": 0,
      "outputs": []
    },
    {
      "cell_type": "code",
      "metadata": {
        "id": "wJVGiA0yVOTS",
        "colab_type": "code",
        "outputId": "3a2a2705-47d3-4c75-f615-7bcb682455f3",
        "colab": {
          "base_uri": "https://localhost:8080/",
          "height": 595
        }
      },
      "source": [
        "gbm_cv.fit(X_train, y_train)"
      ],
      "execution_count": 0,
      "outputs": [
        {
          "output_type": "stream",
          "text": [
            "Fitting 10 folds for each of 108 candidates, totalling 1080 fits\n"
          ],
          "name": "stdout"
        },
        {
          "output_type": "stream",
          "text": [
            "[Parallel(n_jobs=-1)]: Using backend LokyBackend with 2 concurrent workers.\n",
            "[Parallel(n_jobs=-1)]: Done  37 tasks      | elapsed:    8.9s\n",
            "[Parallel(n_jobs=-1)]: Done 158 tasks      | elapsed:   47.6s\n",
            "[Parallel(n_jobs=-1)]: Done 361 tasks      | elapsed:  2.5min\n",
            "[Parallel(n_jobs=-1)]: Done 644 tasks      | elapsed:  4.8min\n",
            "[Parallel(n_jobs=-1)]: Done 1009 tasks      | elapsed:  6.9min\n",
            "[Parallel(n_jobs=-1)]: Done 1080 out of 1080 | elapsed:  7.6min finished\n"
          ],
          "name": "stderr"
        },
        {
          "output_type": "execute_result",
          "data": {
            "text/plain": [
              "GridSearchCV(cv=10, error_score=nan,\n",
              "             estimator=GradientBoostingClassifier(ccp_alpha=0.0,\n",
              "                                                  criterion='friedman_mse',\n",
              "                                                  init=None, learning_rate=0.1,\n",
              "                                                  loss='deviance', max_depth=3,\n",
              "                                                  max_features=None,\n",
              "                                                  max_leaf_nodes=None,\n",
              "                                                  min_impurity_decrease=0.0,\n",
              "                                                  min_impurity_split=None,\n",
              "                                                  min_samples_leaf=1,\n",
              "                                                  min_samples_split=2,\n",
              "                                                  min_weight_fraction_leaf=0.0,\n",
              "                                                  n_estimators=100,\n",
              "                                                  n_iter_no_...\n",
              "                                                  presort='deprecated',\n",
              "                                                  random_state=None,\n",
              "                                                  subsample=1.0, tol=0.0001,\n",
              "                                                  validation_fraction=0.1,\n",
              "                                                  verbose=0, warm_start=False),\n",
              "             iid='deprecated', n_jobs=-1,\n",
              "             param_grid={'learning_rate': [0.001, 0.01, 0.1, 0.05],\n",
              "                         'max_depth': [3, 5, 10],\n",
              "                         'min_samples_split': [2, 5, 10],\n",
              "                         'n_estimators': [100, 500, 100]},\n",
              "             pre_dispatch='2*n_jobs', refit=True, return_train_score=False,\n",
              "             scoring=None, verbose=2)"
            ]
          },
          "metadata": {
            "tags": []
          },
          "execution_count": 94
        }
      ]
    },
    {
      "cell_type": "code",
      "metadata": {
        "id": "IBMU9qbDVhK5",
        "colab_type": "code",
        "outputId": "dbb134b4-8f3b-4780-854b-f1ddf737ed46",
        "colab": {
          "base_uri": "https://localhost:8080/",
          "height": 85
        }
      },
      "source": [
        "gbm_cv.best_params_"
      ],
      "execution_count": 0,
      "outputs": [
        {
          "output_type": "execute_result",
          "data": {
            "text/plain": [
              "{'learning_rate': 0.1,\n",
              " 'max_depth': 3,\n",
              " 'min_samples_split': 10,\n",
              " 'n_estimators': 100}"
            ]
          },
          "metadata": {
            "tags": []
          },
          "execution_count": 95
        }
      ]
    },
    {
      "cell_type": "code",
      "metadata": {
        "id": "-EVuh90QVmqE",
        "colab_type": "code",
        "colab": {}
      },
      "source": [
        "gbm_tuned = GradientBoostingClassifier(learning_rate =  0.1,\n",
        " max_depth = 3,\n",
        " min_samples_split = 10,\n",
        " n_estimators = 100).fit(X_train, y_train)"
      ],
      "execution_count": 0,
      "outputs": []
    },
    {
      "cell_type": "code",
      "metadata": {
        "id": "_X1ZSh6maZYa",
        "colab_type": "code",
        "outputId": "96023c1d-de6a-4f36-feae-ed17b51bea58",
        "colab": {
          "base_uri": "https://localhost:8080/",
          "height": 34
        }
      },
      "source": [
        "y_pred = gbm_model.predict(X_test)\n",
        "accuracy_score(y_test, y_pred)\n"
      ],
      "execution_count": 0,
      "outputs": [
        {
          "output_type": "execute_result",
          "data": {
            "text/plain": [
              "0.7532467532467533"
            ]
          },
          "metadata": {
            "tags": []
          },
          "execution_count": 100
        }
      ]
    },
    {
      "cell_type": "markdown",
      "metadata": {
        "id": "q3w_UceDa4Km",
        "colab_type": "text"
      },
      "source": [
        "# XGBoost"
      ]
    },
    {
      "cell_type": "code",
      "metadata": {
        "id": "nv-MMjwka6Bd",
        "colab_type": "code",
        "colab": {}
      },
      "source": [
        "df = diabetes.copy()\n",
        "df = df.dropna()\n",
        "y = df[\"Outcome\"]\n",
        "X = df.drop(['Outcome'], axis=1)\n",
        "X_train, X_test, y_train, y_test = train_test_split(X, y, \n",
        "                                                    test_size=0.30, \n",
        "                                                    random_state=42)"
      ],
      "execution_count": 0,
      "outputs": []
    },
    {
      "cell_type": "code",
      "metadata": {
        "id": "9HeZN8vqbFnp",
        "colab_type": "code",
        "outputId": "cdd2d377-1f8f-4d1b-96b3-d46e7d920860",
        "colab": {
          "base_uri": "https://localhost:8080/",
          "height": 68
        }
      },
      "source": [
        "!pip install xgboost"
      ],
      "execution_count": 0,
      "outputs": [
        {
          "output_type": "stream",
          "text": [
            "Requirement already satisfied: xgboost in /usr/local/lib/python3.6/dist-packages (0.90)\n",
            "Requirement already satisfied: numpy in /usr/local/lib/python3.6/dist-packages (from xgboost) (1.18.3)\n",
            "Requirement already satisfied: scipy in /usr/local/lib/python3.6/dist-packages (from xgboost) (1.4.1)\n"
          ],
          "name": "stdout"
        }
      ]
    },
    {
      "cell_type": "code",
      "metadata": {
        "id": "18VbniVIbOsN",
        "colab_type": "code",
        "colab": {}
      },
      "source": [
        "from xgboost import XGBClassifier"
      ],
      "execution_count": 0,
      "outputs": []
    },
    {
      "cell_type": "code",
      "metadata": {
        "id": "Mxtr0U-5bUS4",
        "colab_type": "code",
        "colab": {}
      },
      "source": [
        "xgb_model = XGBClassifier().fit(X_train, y_train)"
      ],
      "execution_count": 0,
      "outputs": []
    },
    {
      "cell_type": "code",
      "metadata": {
        "id": "crxePsfBbeIW",
        "colab_type": "code",
        "outputId": "6ad3807e-06a8-4b1a-c986-0bf84f29c303",
        "colab": {
          "base_uri": "https://localhost:8080/",
          "height": 34
        }
      },
      "source": [
        "y_pred = xgb_model.predict(X_test)\n",
        "accuracy_score(y_test, y_pred)"
      ],
      "execution_count": 0,
      "outputs": [
        {
          "output_type": "execute_result",
          "data": {
            "text/plain": [
              "0.7489177489177489"
            ]
          },
          "metadata": {
            "tags": []
          },
          "execution_count": 10
        }
      ]
    },
    {
      "cell_type": "markdown",
      "metadata": {
        "id": "isi--22idyUf",
        "colab_type": "text"
      },
      "source": [
        "## Model Tuning"
      ]
    },
    {
      "cell_type": "code",
      "metadata": {
        "id": "JWz4-F5ndvjN",
        "colab_type": "code",
        "outputId": "27e1893b-bb88-40cb-e05c-391585b4965e",
        "colab": {
          "base_uri": "https://localhost:8080/",
          "height": 136
        }
      },
      "source": [
        "xgb_model\n",
        "# max_depth\n",
        "# learning_rate\n",
        "# n_estimators(iterasyon sayısı olarak dda geçebilir)\n",
        "# colsamble_bytree belki"
      ],
      "execution_count": 0,
      "outputs": [
        {
          "output_type": "execute_result",
          "data": {
            "text/plain": [
              "XGBClassifier(base_score=0.5, booster='gbtree', colsample_bylevel=1,\n",
              "              colsample_bynode=1, colsample_bytree=1, gamma=0,\n",
              "              learning_rate=0.1, max_delta_step=0, max_depth=3,\n",
              "              min_child_weight=1, missing=None, n_estimators=100, n_jobs=1,\n",
              "              nthread=None, objective='binary:logistic', random_state=0,\n",
              "              reg_alpha=0, reg_lambda=1, scale_pos_weight=1, seed=None,\n",
              "              silent=None, subsample=1, verbosity=1)"
            ]
          },
          "metadata": {
            "tags": []
          },
          "execution_count": 12
        }
      ]
    },
    {
      "cell_type": "code",
      "metadata": {
        "id": "qXkmxgRKd15r",
        "colab_type": "code",
        "colab": {}
      },
      "source": [
        "xgb_params = {\n",
        "        'n_estimators': [100, 500, 1000, 2000],\n",
        "        'subsample': [0.6, 0.8, 1.0],\n",
        "        'max_depth': [3, 4, 5,6],\n",
        "        'learning_rate': [0.1,0.01,0.02,0.05],\n",
        "        \"min_samples_split\": [2,5,10]}"
      ],
      "execution_count": 0,
      "outputs": []
    },
    {
      "cell_type": "code",
      "metadata": {
        "id": "7TLuB4pneWmL",
        "colab_type": "code",
        "colab": {}
      },
      "source": [
        "xgb = GradientBoostingClassifier()\n",
        "xgb_cv_model = GridSearchCV(xgb, xgb_params, cv=10, n_jobs = -1, verbose = 2)"
      ],
      "execution_count": 0,
      "outputs": []
    },
    {
      "cell_type": "code",
      "metadata": {
        "id": "bjjRJ4kue0ft",
        "colab_type": "code",
        "colab": {}
      },
      "source": [
        "xgb_cv_model.fit(X_train, y_train)"
      ],
      "execution_count": 0,
      "outputs": []
    },
    {
      "cell_type": "code",
      "metadata": {
        "id": "aEPyr5dUe6vP",
        "colab_type": "code",
        "colab": {}
      },
      "source": [
        "xgb_cv_model.best_params_"
      ],
      "execution_count": 0,
      "outputs": []
    },
    {
      "cell_type": "code",
      "metadata": {
        "id": "sknQKBzmfHKh",
        "colab_type": "code",
        "colab": {}
      },
      "source": [
        "xgb = XGBClassifier(learning_rate = 0.01, \n",
        "                    max_depth = 6,\n",
        "                    min_samples_split = 2,\n",
        "                    n_estimators = 100,\n",
        "                    subsample = 0.8)"
      ],
      "execution_count": 0,
      "outputs": []
    },
    {
      "cell_type": "code",
      "metadata": {
        "id": "V2GqeXbVfKIq",
        "colab_type": "code",
        "colab": {}
      },
      "source": [
        "xgb_tuned =  xgb.fit(X_train,y_train)"
      ],
      "execution_count": 0,
      "outputs": []
    },
    {
      "cell_type": "code",
      "metadata": {
        "id": "8-l4_jzWfUv9",
        "colab_type": "code",
        "colab": {}
      },
      "source": [
        "y_pred = xgb_tuned.predict(X_test)\n",
        "accuracy_score(y_test, y_pred)"
      ],
      "execution_count": 0,
      "outputs": []
    },
    {
      "cell_type": "markdown",
      "metadata": {
        "id": "L6cgBJ2pf9pP",
        "colab_type": "text"
      },
      "source": [
        "# Light GBM"
      ]
    },
    {
      "cell_type": "code",
      "metadata": {
        "id": "VyV4ctUEf82h",
        "colab_type": "code",
        "colab": {}
      },
      "source": [
        "from lightgbm import LGBMClassifier"
      ],
      "execution_count": 0,
      "outputs": []
    },
    {
      "cell_type": "code",
      "metadata": {
        "id": "LjkHLaIRf5Y6",
        "colab_type": "code",
        "colab": {}
      },
      "source": [
        "lgbm_model = LGBMClassifier().fit(X_train, y_train)"
      ],
      "execution_count": 0,
      "outputs": []
    },
    {
      "cell_type": "code",
      "metadata": {
        "id": "H3xI50evhdi4",
        "colab_type": "code",
        "outputId": "321457c2-ee32-417c-ffee-96458a93dcf5",
        "colab": {
          "base_uri": "https://localhost:8080/",
          "height": 34
        }
      },
      "source": [
        "y_pred = lgbm_model.predict(X_test)\n",
        "accuracy_score(y_test,y_pred)"
      ],
      "execution_count": 0,
      "outputs": [
        {
          "output_type": "execute_result",
          "data": {
            "text/plain": [
              "0.7272727272727273"
            ]
          },
          "metadata": {
            "tags": []
          },
          "execution_count": 19
        }
      ]
    },
    {
      "cell_type": "markdown",
      "metadata": {
        "id": "BkZYK7dYhuvh",
        "colab_type": "text"
      },
      "source": [
        "## Model  Tuning"
      ]
    },
    {
      "cell_type": "code",
      "metadata": {
        "id": "IU_lAw8Ghqqk",
        "colab_type": "code",
        "outputId": "c21d015b-1e05-4a2f-c435-dc43e73d83e5",
        "colab": {
          "base_uri": "https://localhost:8080/",
          "height": 119
        }
      },
      "source": [
        "lgbm_model\n",
        "# boosting_type\n",
        "# max_depth\n",
        "# n_estimators\n",
        "# min_child_samples\n",
        "# subsamble\n"
      ],
      "execution_count": 0,
      "outputs": [
        {
          "output_type": "execute_result",
          "data": {
            "text/plain": [
              "LGBMClassifier(boosting_type='gbdt', class_weight=None, colsample_bytree=1.0,\n",
              "               importance_type='split', learning_rate=0.1, max_depth=-1,\n",
              "               min_child_samples=20, min_child_weight=0.001, min_split_gain=0.0,\n",
              "               n_estimators=100, n_jobs=-1, num_leaves=31, objective=None,\n",
              "               random_state=None, reg_alpha=0.0, reg_lambda=0.0, silent=True,\n",
              "               subsample=1.0, subsample_for_bin=200000, subsample_freq=0)"
            ]
          },
          "metadata": {
            "tags": []
          },
          "execution_count": 20
        }
      ]
    },
    {
      "cell_type": "code",
      "metadata": {
        "id": "FwTDypgShzYl",
        "colab_type": "code",
        "colab": {}
      },
      "source": [
        "lgbm_params = {\n",
        "        'n_estimators': [100, 500, 1000, 2000],\n",
        "        'subsample': [0.6, 0.8, 1.0],\n",
        "        'max_depth': [3, 4, 5,6],\n",
        "        'learning_rate': [0.1,0.01,0.02,0.05],\n",
        "        \"min_child_samples\": [5,10,20]}"
      ],
      "execution_count": 0,
      "outputs": []
    },
    {
      "cell_type": "code",
      "metadata": {
        "id": "CibnNg40irI_",
        "colab_type": "code",
        "colab": {}
      },
      "source": [
        "lgbm = LGBMClassifier()\n",
        "lgbm_cv_model = GridSearchCV(lgbm, lgbm_params, cv=10,n_jobs = -1, verbose = 2)\n"
      ],
      "execution_count": 0,
      "outputs": []
    },
    {
      "cell_type": "code",
      "metadata": {
        "id": "051IZcZhi-qd",
        "colab_type": "code",
        "colab": {}
      },
      "source": [
        "lgbm_tuned =lgbm_cv_model.fit(X_train, y_train)"
      ],
      "execution_count": 0,
      "outputs": []
    },
    {
      "cell_type": "code",
      "metadata": {
        "id": "TcvC-CiSjHbN",
        "colab_type": "code",
        "colab": {}
      },
      "source": [
        "lgbm_tuned.best_params_"
      ],
      "execution_count": 0,
      "outputs": []
    },
    {
      "cell_type": "code",
      "metadata": {
        "id": "zuxgEW0SjTn_",
        "colab_type": "code",
        "colab": {}
      },
      "source": [
        "lgbm = LGBMClassifier(learning_rate = 0.01, \n",
        "                       max_depth = 3,\n",
        "                       subsample = 0.6,\n",
        "                       n_estimators = 500,\n",
        "                       min_child_samples = 20)"
      ],
      "execution_count": 0,
      "outputs": []
    },
    {
      "cell_type": "code",
      "metadata": {
        "id": "a2QhRILyjaRO",
        "colab_type": "code",
        "colab": {}
      },
      "source": [
        "lgbm_tuned = lgbm.fit(X_train,y_train)"
      ],
      "execution_count": 0,
      "outputs": []
    },
    {
      "cell_type": "code",
      "metadata": {
        "id": "UbyeUdSYjcHh",
        "colab_type": "code",
        "colab": {}
      },
      "source": [
        "y_pred = lgbm_tuned.predict(X_test)\n",
        "accuracy_score(y_test, y_pred)"
      ],
      "execution_count": 0,
      "outputs": []
    },
    {
      "cell_type": "markdown",
      "metadata": {
        "id": "rx_tVIUclfOk",
        "colab_type": "text"
      },
      "source": [
        "# CatBoosting"
      ]
    },
    {
      "cell_type": "code",
      "metadata": {
        "id": "551Y06GKlemv",
        "colab_type": "code",
        "outputId": "62a25b05-a378-44e4-cef5-e6660c229ba8",
        "colab": {
          "base_uri": "https://localhost:8080/",
          "height": 343
        }
      },
      "source": [
        "!pip install catboost\n",
        "from catboost import CatBoostClassifier"
      ],
      "execution_count": 0,
      "outputs": [
        {
          "output_type": "stream",
          "text": [
            "Collecting catboost\n",
            "\u001b[?25l  Downloading https://files.pythonhosted.org/packages/b1/61/2b8106c8870601671d99ca94d8b8d180f2b740b7cdb95c930147508abcf9/catboost-0.23-cp36-none-manylinux1_x86_64.whl (64.7MB)\n",
            "\u001b[K     |████████████████████████████████| 64.8MB 64kB/s \n",
            "\u001b[?25hRequirement already satisfied: pandas>=0.24.0 in /usr/local/lib/python3.6/dist-packages (from catboost) (1.0.3)\n",
            "Requirement already satisfied: scipy in /usr/local/lib/python3.6/dist-packages (from catboost) (1.4.1)\n",
            "Requirement already satisfied: graphviz in /usr/local/lib/python3.6/dist-packages (from catboost) (0.10.1)\n",
            "Requirement already satisfied: plotly in /usr/local/lib/python3.6/dist-packages (from catboost) (4.4.1)\n",
            "Requirement already satisfied: numpy>=1.16.0 in /usr/local/lib/python3.6/dist-packages (from catboost) (1.18.3)\n",
            "Requirement already satisfied: six in /usr/local/lib/python3.6/dist-packages (from catboost) (1.12.0)\n",
            "Requirement already satisfied: matplotlib in /usr/local/lib/python3.6/dist-packages (from catboost) (3.2.1)\n",
            "Requirement already satisfied: python-dateutil>=2.6.1 in /usr/local/lib/python3.6/dist-packages (from pandas>=0.24.0->catboost) (2.8.1)\n",
            "Requirement already satisfied: pytz>=2017.2 in /usr/local/lib/python3.6/dist-packages (from pandas>=0.24.0->catboost) (2018.9)\n",
            "Requirement already satisfied: retrying>=1.3.3 in /usr/local/lib/python3.6/dist-packages (from plotly->catboost) (1.3.3)\n",
            "Requirement already satisfied: cycler>=0.10 in /usr/local/lib/python3.6/dist-packages (from matplotlib->catboost) (0.10.0)\n",
            "Requirement already satisfied: kiwisolver>=1.0.1 in /usr/local/lib/python3.6/dist-packages (from matplotlib->catboost) (1.2.0)\n",
            "Requirement already satisfied: pyparsing!=2.0.4,!=2.1.2,!=2.1.6,>=2.0.1 in /usr/local/lib/python3.6/dist-packages (from matplotlib->catboost) (2.4.7)\n",
            "Installing collected packages: catboost\n",
            "Successfully installed catboost-0.23\n"
          ],
          "name": "stdout"
        }
      ]
    },
    {
      "cell_type": "code",
      "metadata": {
        "id": "Rfbo5nKRmd3G",
        "colab_type": "code",
        "colab": {}
      },
      "source": [
        "cat_model = CatBoostClassifier().fit(X_train, y_train)"
      ],
      "execution_count": 0,
      "outputs": []
    },
    {
      "cell_type": "code",
      "metadata": {
        "id": "LO3oUg5bm08d",
        "colab_type": "code",
        "outputId": "445ff566-af1d-4e07-8c1f-3f1d68c04688",
        "colab": {
          "base_uri": "https://localhost:8080/",
          "height": 34
        }
      },
      "source": [
        "y_pred = cat_model.predict(X_test)\n",
        "accuracy_score(y_test, y_pred)"
      ],
      "execution_count": 0,
      "outputs": [
        {
          "output_type": "execute_result",
          "data": {
            "text/plain": [
              "0.7402597402597403"
            ]
          },
          "metadata": {
            "tags": []
          },
          "execution_count": 28
        }
      ]
    },
    {
      "cell_type": "markdown",
      "metadata": {
        "id": "fFLlE7vpnIZB",
        "colab_type": "text"
      },
      "source": [
        "## Model Tuning"
      ]
    },
    {
      "cell_type": "code",
      "metadata": {
        "id": "UbvrHZptnDTK",
        "colab_type": "code",
        "colab": {}
      },
      "source": [
        "catb_params = {\n",
        "    'iterations': [200,500],\n",
        "    'learning_rate': [0.01,0.05, 0.1],\n",
        "    'depth': [3,5,8] }"
      ],
      "execution_count": 0,
      "outputs": []
    },
    {
      "cell_type": "code",
      "metadata": {
        "id": "9Qs6gYjsnWug",
        "colab_type": "code",
        "colab": {}
      },
      "source": [
        "catb = CatBoostClassifier()\n",
        "catb_cv_model = GridSearchCV(catb, catb_params, cv=5, n_jobs = -1, verbose = 2)\n",
        "catb_cv_model.fit(X_train, y_train)\n",
        "catb_cv_model.best_params_"
      ],
      "execution_count": 0,
      "outputs": []
    },
    {
      "cell_type": "code",
      "metadata": {
        "id": "I0O9C23jnbPG",
        "colab_type": "code",
        "colab": {}
      },
      "source": [
        "catb_cv_model.best_params_"
      ],
      "execution_count": 0,
      "outputs": []
    },
    {
      "cell_type": "code",
      "metadata": {
        "id": "z1fWIhrQnh_7",
        "colab_type": "code",
        "outputId": "b1709255-5859-48c6-8120-ccad2edbd541",
        "colab": {
          "base_uri": "https://localhost:8080/",
          "height": 1000
        }
      },
      "source": [
        "catb = CatBoostClassifier(iterations = 200, \n",
        "                          learning_rate = 0.05, \n",
        "                          depth = 5)\n",
        "\n",
        "catb_tuned = catb.fit(X_train, y_train)\n",
        "y_pred = catb_tuned.predict(X_test)"
      ],
      "execution_count": 0,
      "outputs": [
        {
          "output_type": "stream",
          "text": [
            "0:\tlearn: 0.6616627\ttotal: 1.65ms\tremaining: 328ms\n",
            "1:\tlearn: 0.6400771\ttotal: 3.79ms\tremaining: 375ms\n",
            "2:\tlearn: 0.6218613\ttotal: 5.18ms\tremaining: 340ms\n",
            "3:\tlearn: 0.6091958\ttotal: 6.94ms\tremaining: 340ms\n",
            "4:\tlearn: 0.5938260\ttotal: 10.3ms\tremaining: 403ms\n",
            "5:\tlearn: 0.5777363\ttotal: 11.6ms\tremaining: 375ms\n",
            "6:\tlearn: 0.5641154\ttotal: 12.8ms\tremaining: 352ms\n",
            "7:\tlearn: 0.5465291\ttotal: 14ms\tremaining: 335ms\n",
            "8:\tlearn: 0.5343176\ttotal: 15.2ms\tremaining: 323ms\n",
            "9:\tlearn: 0.5253371\ttotal: 16.4ms\tremaining: 311ms\n",
            "10:\tlearn: 0.5152429\ttotal: 17.5ms\tremaining: 300ms\n",
            "11:\tlearn: 0.5039035\ttotal: 18.6ms\tremaining: 291ms\n",
            "12:\tlearn: 0.4940833\ttotal: 19.8ms\tremaining: 285ms\n",
            "13:\tlearn: 0.4869167\ttotal: 21ms\tremaining: 279ms\n",
            "14:\tlearn: 0.4800142\ttotal: 22.2ms\tremaining: 274ms\n",
            "15:\tlearn: 0.4744378\ttotal: 23.4ms\tremaining: 269ms\n",
            "16:\tlearn: 0.4684316\ttotal: 24.6ms\tremaining: 265ms\n",
            "17:\tlearn: 0.4619170\ttotal: 25.8ms\tremaining: 261ms\n",
            "18:\tlearn: 0.4560716\ttotal: 27ms\tremaining: 257ms\n",
            "19:\tlearn: 0.4520436\ttotal: 28.2ms\tremaining: 254ms\n",
            "20:\tlearn: 0.4497033\ttotal: 29.4ms\tremaining: 251ms\n",
            "21:\tlearn: 0.4455907\ttotal: 30.6ms\tremaining: 248ms\n",
            "22:\tlearn: 0.4423133\ttotal: 31.9ms\tremaining: 245ms\n",
            "23:\tlearn: 0.4386980\ttotal: 33ms\tremaining: 242ms\n",
            "24:\tlearn: 0.4349802\ttotal: 34.2ms\tremaining: 239ms\n",
            "25:\tlearn: 0.4310116\ttotal: 35.4ms\tremaining: 237ms\n",
            "26:\tlearn: 0.4267070\ttotal: 36.6ms\tremaining: 234ms\n",
            "27:\tlearn: 0.4235043\ttotal: 37.8ms\tremaining: 232ms\n",
            "28:\tlearn: 0.4208978\ttotal: 39ms\tremaining: 230ms\n",
            "29:\tlearn: 0.4172591\ttotal: 40.2ms\tremaining: 228ms\n",
            "30:\tlearn: 0.4133506\ttotal: 41.4ms\tremaining: 226ms\n",
            "31:\tlearn: 0.4102273\ttotal: 42.5ms\tremaining: 223ms\n",
            "32:\tlearn: 0.4066658\ttotal: 43.8ms\tremaining: 222ms\n",
            "33:\tlearn: 0.4045114\ttotal: 45.1ms\tremaining: 220ms\n",
            "34:\tlearn: 0.4023280\ttotal: 46.4ms\tremaining: 219ms\n",
            "35:\tlearn: 0.3999824\ttotal: 47.6ms\tremaining: 217ms\n",
            "36:\tlearn: 0.3963377\ttotal: 48.7ms\tremaining: 215ms\n",
            "37:\tlearn: 0.3934108\ttotal: 50.1ms\tremaining: 214ms\n",
            "38:\tlearn: 0.3912932\ttotal: 51.3ms\tremaining: 212ms\n",
            "39:\tlearn: 0.3893715\ttotal: 52.5ms\tremaining: 210ms\n",
            "40:\tlearn: 0.3875596\ttotal: 53.7ms\tremaining: 208ms\n",
            "41:\tlearn: 0.3849698\ttotal: 54.9ms\tremaining: 207ms\n",
            "42:\tlearn: 0.3813678\ttotal: 56.1ms\tremaining: 205ms\n",
            "43:\tlearn: 0.3795781\ttotal: 57.3ms\tremaining: 203ms\n",
            "44:\tlearn: 0.3777554\ttotal: 58.5ms\tremaining: 201ms\n",
            "45:\tlearn: 0.3757326\ttotal: 59.6ms\tremaining: 200ms\n",
            "46:\tlearn: 0.3745693\ttotal: 60.8ms\tremaining: 198ms\n",
            "47:\tlearn: 0.3721740\ttotal: 62ms\tremaining: 196ms\n",
            "48:\tlearn: 0.3686164\ttotal: 63.2ms\tremaining: 195ms\n",
            "49:\tlearn: 0.3666828\ttotal: 64.4ms\tremaining: 193ms\n",
            "50:\tlearn: 0.3645101\ttotal: 65.6ms\tremaining: 192ms\n",
            "51:\tlearn: 0.3625507\ttotal: 66.8ms\tremaining: 190ms\n",
            "52:\tlearn: 0.3612248\ttotal: 67.9ms\tremaining: 188ms\n",
            "53:\tlearn: 0.3604204\ttotal: 69.2ms\tremaining: 187ms\n",
            "54:\tlearn: 0.3590330\ttotal: 70.3ms\tremaining: 185ms\n",
            "55:\tlearn: 0.3575423\ttotal: 71.5ms\tremaining: 184ms\n",
            "56:\tlearn: 0.3554918\ttotal: 72.7ms\tremaining: 182ms\n",
            "57:\tlearn: 0.3544390\ttotal: 74ms\tremaining: 181ms\n",
            "58:\tlearn: 0.3526415\ttotal: 75.2ms\tremaining: 180ms\n",
            "59:\tlearn: 0.3511699\ttotal: 76.3ms\tremaining: 178ms\n",
            "60:\tlearn: 0.3494531\ttotal: 77.5ms\tremaining: 177ms\n",
            "61:\tlearn: 0.3483422\ttotal: 78.7ms\tremaining: 175ms\n",
            "62:\tlearn: 0.3451843\ttotal: 79.8ms\tremaining: 174ms\n",
            "63:\tlearn: 0.3435601\ttotal: 81ms\tremaining: 172ms\n",
            "64:\tlearn: 0.3423130\ttotal: 82.3ms\tremaining: 171ms\n",
            "65:\tlearn: 0.3398605\ttotal: 83.5ms\tremaining: 169ms\n",
            "66:\tlearn: 0.3385222\ttotal: 84.7ms\tremaining: 168ms\n",
            "67:\tlearn: 0.3351718\ttotal: 85.8ms\tremaining: 167ms\n",
            "68:\tlearn: 0.3340515\ttotal: 87ms\tremaining: 165ms\n",
            "69:\tlearn: 0.3331527\ttotal: 88.2ms\tremaining: 164ms\n",
            "70:\tlearn: 0.3316703\ttotal: 89.4ms\tremaining: 162ms\n",
            "71:\tlearn: 0.3302135\ttotal: 90.6ms\tremaining: 161ms\n",
            "72:\tlearn: 0.3295554\ttotal: 91.8ms\tremaining: 160ms\n",
            "73:\tlearn: 0.3284618\ttotal: 93ms\tremaining: 158ms\n",
            "74:\tlearn: 0.3280059\ttotal: 94.2ms\tremaining: 157ms\n",
            "75:\tlearn: 0.3269349\ttotal: 95.4ms\tremaining: 156ms\n",
            "76:\tlearn: 0.3254912\ttotal: 96.6ms\tremaining: 154ms\n",
            "77:\tlearn: 0.3241503\ttotal: 97.8ms\tremaining: 153ms\n",
            "78:\tlearn: 0.3229153\ttotal: 98.9ms\tremaining: 152ms\n",
            "79:\tlearn: 0.3219831\ttotal: 100ms\tremaining: 150ms\n",
            "80:\tlearn: 0.3206452\ttotal: 101ms\tremaining: 149ms\n",
            "81:\tlearn: 0.3192228\ttotal: 102ms\tremaining: 147ms\n",
            "82:\tlearn: 0.3171288\ttotal: 104ms\tremaining: 146ms\n",
            "83:\tlearn: 0.3161241\ttotal: 105ms\tremaining: 145ms\n",
            "84:\tlearn: 0.3151305\ttotal: 106ms\tremaining: 144ms\n",
            "85:\tlearn: 0.3140531\ttotal: 107ms\tremaining: 142ms\n",
            "86:\tlearn: 0.3130597\ttotal: 109ms\tremaining: 141ms\n",
            "87:\tlearn: 0.3107272\ttotal: 110ms\tremaining: 140ms\n",
            "88:\tlearn: 0.3086432\ttotal: 111ms\tremaining: 138ms\n",
            "89:\tlearn: 0.3064505\ttotal: 112ms\tremaining: 137ms\n",
            "90:\tlearn: 0.3045960\ttotal: 113ms\tremaining: 136ms\n",
            "91:\tlearn: 0.3037277\ttotal: 114ms\tremaining: 134ms\n",
            "92:\tlearn: 0.3033130\ttotal: 116ms\tremaining: 133ms\n",
            "93:\tlearn: 0.3023577\ttotal: 117ms\tremaining: 132ms\n",
            "94:\tlearn: 0.3009671\ttotal: 118ms\tremaining: 130ms\n",
            "95:\tlearn: 0.2996384\ttotal: 119ms\tremaining: 129ms\n",
            "96:\tlearn: 0.2985628\ttotal: 120ms\tremaining: 128ms\n",
            "97:\tlearn: 0.2976959\ttotal: 122ms\tremaining: 127ms\n",
            "98:\tlearn: 0.2963551\ttotal: 123ms\tremaining: 125ms\n",
            "99:\tlearn: 0.2953933\ttotal: 124ms\tremaining: 124ms\n",
            "100:\tlearn: 0.2939242\ttotal: 125ms\tremaining: 123ms\n",
            "101:\tlearn: 0.2922286\ttotal: 126ms\tremaining: 121ms\n",
            "102:\tlearn: 0.2913076\ttotal: 128ms\tremaining: 120ms\n",
            "103:\tlearn: 0.2909115\ttotal: 129ms\tremaining: 119ms\n",
            "104:\tlearn: 0.2899733\ttotal: 130ms\tremaining: 118ms\n",
            "105:\tlearn: 0.2890918\ttotal: 131ms\tremaining: 116ms\n",
            "106:\tlearn: 0.2877411\ttotal: 132ms\tremaining: 115ms\n",
            "107:\tlearn: 0.2862047\ttotal: 134ms\tremaining: 114ms\n",
            "108:\tlearn: 0.2856506\ttotal: 135ms\tremaining: 112ms\n",
            "109:\tlearn: 0.2850160\ttotal: 136ms\tremaining: 111ms\n",
            "110:\tlearn: 0.2834787\ttotal: 137ms\tremaining: 110ms\n",
            "111:\tlearn: 0.2828109\ttotal: 138ms\tremaining: 109ms\n",
            "112:\tlearn: 0.2819049\ttotal: 140ms\tremaining: 107ms\n",
            "113:\tlearn: 0.2807782\ttotal: 141ms\tremaining: 106ms\n",
            "114:\tlearn: 0.2796423\ttotal: 142ms\tremaining: 105ms\n",
            "115:\tlearn: 0.2784843\ttotal: 143ms\tremaining: 104ms\n",
            "116:\tlearn: 0.2768594\ttotal: 144ms\tremaining: 102ms\n",
            "117:\tlearn: 0.2765319\ttotal: 145ms\tremaining: 101ms\n",
            "118:\tlearn: 0.2747042\ttotal: 147ms\tremaining: 99.8ms\n",
            "119:\tlearn: 0.2741504\ttotal: 148ms\tremaining: 98.6ms\n",
            "120:\tlearn: 0.2735553\ttotal: 149ms\tremaining: 97.3ms\n",
            "121:\tlearn: 0.2730906\ttotal: 150ms\tremaining: 96ms\n",
            "122:\tlearn: 0.2723083\ttotal: 151ms\tremaining: 94.7ms\n",
            "123:\tlearn: 0.2716527\ttotal: 153ms\tremaining: 93.5ms\n",
            "124:\tlearn: 0.2700564\ttotal: 154ms\tremaining: 92.2ms\n",
            "125:\tlearn: 0.2696717\ttotal: 155ms\tremaining: 91ms\n",
            "126:\tlearn: 0.2688315\ttotal: 156ms\tremaining: 89.8ms\n",
            "127:\tlearn: 0.2678454\ttotal: 157ms\tremaining: 88.5ms\n",
            "128:\tlearn: 0.2670500\ttotal: 159ms\tremaining: 87.2ms\n",
            "129:\tlearn: 0.2661800\ttotal: 160ms\tremaining: 86ms\n",
            "130:\tlearn: 0.2651020\ttotal: 161ms\tremaining: 84.8ms\n",
            "131:\tlearn: 0.2648681\ttotal: 162ms\tremaining: 83.5ms\n",
            "132:\tlearn: 0.2642249\ttotal: 163ms\tremaining: 82.3ms\n",
            "133:\tlearn: 0.2633764\ttotal: 165ms\tremaining: 81ms\n",
            "134:\tlearn: 0.2624557\ttotal: 166ms\tremaining: 79.8ms\n",
            "135:\tlearn: 0.2619357\ttotal: 167ms\tremaining: 78.6ms\n",
            "136:\tlearn: 0.2611252\ttotal: 168ms\tremaining: 77.3ms\n",
            "137:\tlearn: 0.2604343\ttotal: 169ms\tremaining: 76.1ms\n",
            "138:\tlearn: 0.2589164\ttotal: 170ms\tremaining: 74.8ms\n",
            "139:\tlearn: 0.2573269\ttotal: 172ms\tremaining: 73.6ms\n",
            "140:\tlearn: 0.2564114\ttotal: 173ms\tremaining: 72.4ms\n",
            "141:\tlearn: 0.2556587\ttotal: 174ms\tremaining: 71.1ms\n",
            "142:\tlearn: 0.2548240\ttotal: 175ms\tremaining: 69.9ms\n",
            "143:\tlearn: 0.2529632\ttotal: 177ms\tremaining: 68.7ms\n",
            "144:\tlearn: 0.2521939\ttotal: 178ms\tremaining: 67.4ms\n",
            "145:\tlearn: 0.2514038\ttotal: 179ms\tremaining: 66.2ms\n",
            "146:\tlearn: 0.2498185\ttotal: 180ms\tremaining: 64.9ms\n",
            "147:\tlearn: 0.2479856\ttotal: 181ms\tremaining: 63.7ms\n",
            "148:\tlearn: 0.2466856\ttotal: 182ms\tremaining: 62.4ms\n",
            "149:\tlearn: 0.2460918\ttotal: 184ms\tremaining: 61.2ms\n",
            "150:\tlearn: 0.2453118\ttotal: 185ms\tremaining: 60ms\n",
            "151:\tlearn: 0.2450614\ttotal: 190ms\tremaining: 60ms\n",
            "152:\tlearn: 0.2445249\ttotal: 191ms\tremaining: 58.7ms\n",
            "153:\tlearn: 0.2432892\ttotal: 192ms\tremaining: 57.4ms\n",
            "154:\tlearn: 0.2428001\ttotal: 193ms\tremaining: 56.2ms\n",
            "155:\tlearn: 0.2425766\ttotal: 195ms\tremaining: 54.9ms\n",
            "156:\tlearn: 0.2416697\ttotal: 196ms\tremaining: 53.6ms\n",
            "157:\tlearn: 0.2409910\ttotal: 197ms\tremaining: 52.4ms\n",
            "158:\tlearn: 0.2403762\ttotal: 198ms\tremaining: 51.1ms\n",
            "159:\tlearn: 0.2395608\ttotal: 199ms\tremaining: 49.8ms\n",
            "160:\tlearn: 0.2391207\ttotal: 201ms\tremaining: 48.6ms\n",
            "161:\tlearn: 0.2384521\ttotal: 202ms\tremaining: 47.3ms\n",
            "162:\tlearn: 0.2376778\ttotal: 203ms\tremaining: 46ms\n",
            "163:\tlearn: 0.2367178\ttotal: 204ms\tremaining: 44.8ms\n",
            "164:\tlearn: 0.2349060\ttotal: 205ms\tremaining: 43.5ms\n",
            "165:\tlearn: 0.2344390\ttotal: 206ms\tremaining: 42.3ms\n",
            "166:\tlearn: 0.2329196\ttotal: 208ms\tremaining: 41ms\n",
            "167:\tlearn: 0.2320098\ttotal: 209ms\tremaining: 39.8ms\n",
            "168:\tlearn: 0.2313207\ttotal: 210ms\tremaining: 38.5ms\n",
            "169:\tlearn: 0.2306976\ttotal: 211ms\tremaining: 37.3ms\n",
            "170:\tlearn: 0.2290764\ttotal: 212ms\tremaining: 36ms\n",
            "171:\tlearn: 0.2284909\ttotal: 213ms\tremaining: 34.8ms\n",
            "172:\tlearn: 0.2277733\ttotal: 215ms\tremaining: 33.5ms\n",
            "173:\tlearn: 0.2258114\ttotal: 216ms\tremaining: 32.3ms\n",
            "174:\tlearn: 0.2252669\ttotal: 217ms\tremaining: 31ms\n",
            "175:\tlearn: 0.2233868\ttotal: 218ms\tremaining: 29.8ms\n",
            "176:\tlearn: 0.2228784\ttotal: 220ms\tremaining: 28.5ms\n",
            "177:\tlearn: 0.2223604\ttotal: 221ms\tremaining: 27.3ms\n",
            "178:\tlearn: 0.2207318\ttotal: 222ms\tremaining: 26ms\n",
            "179:\tlearn: 0.2200060\ttotal: 223ms\tremaining: 24.8ms\n",
            "180:\tlearn: 0.2193713\ttotal: 224ms\tremaining: 23.5ms\n",
            "181:\tlearn: 0.2185273\ttotal: 225ms\tremaining: 22.3ms\n",
            "182:\tlearn: 0.2180744\ttotal: 227ms\tremaining: 21.1ms\n",
            "183:\tlearn: 0.2176278\ttotal: 228ms\tremaining: 19.8ms\n",
            "184:\tlearn: 0.2170626\ttotal: 229ms\tremaining: 18.6ms\n",
            "185:\tlearn: 0.2166607\ttotal: 230ms\tremaining: 17.3ms\n",
            "186:\tlearn: 0.2162465\ttotal: 231ms\tremaining: 16.1ms\n",
            "187:\tlearn: 0.2155382\ttotal: 233ms\tremaining: 14.8ms\n",
            "188:\tlearn: 0.2152433\ttotal: 234ms\tremaining: 13.6ms\n",
            "189:\tlearn: 0.2138442\ttotal: 235ms\tremaining: 12.4ms\n",
            "190:\tlearn: 0.2122594\ttotal: 236ms\tremaining: 11.1ms\n",
            "191:\tlearn: 0.2110281\ttotal: 237ms\tremaining: 9.89ms\n",
            "192:\tlearn: 0.2100246\ttotal: 239ms\tremaining: 8.66ms\n",
            "193:\tlearn: 0.2095451\ttotal: 240ms\tremaining: 7.42ms\n",
            "194:\tlearn: 0.2085057\ttotal: 241ms\tremaining: 6.18ms\n",
            "195:\tlearn: 0.2076547\ttotal: 242ms\tremaining: 4.94ms\n",
            "196:\tlearn: 0.2071886\ttotal: 243ms\tremaining: 3.7ms\n",
            "197:\tlearn: 0.2064421\ttotal: 244ms\tremaining: 2.47ms\n",
            "198:\tlearn: 0.2062648\ttotal: 246ms\tremaining: 1.23ms\n",
            "199:\tlearn: 0.2056894\ttotal: 247ms\tremaining: 0us\n"
          ],
          "name": "stdout"
        }
      ]
    },
    {
      "cell_type": "code",
      "metadata": {
        "id": "JZ4pynyNnj6I",
        "colab_type": "code",
        "outputId": "c35366bd-ecff-4e26-8957-8c48f696cb65",
        "colab": {
          "base_uri": "https://localhost:8080/",
          "height": 34
        }
      },
      "source": [
        "y_pred = catb_tuned.predict(X_test)\n",
        "accuracy_score(y_test, y_pred)"
      ],
      "execution_count": 0,
      "outputs": [
        {
          "output_type": "execute_result",
          "data": {
            "text/plain": [
              "0.7445887445887446"
            ]
          },
          "metadata": {
            "tags": []
          },
          "execution_count": 32
        }
      ]
    },
    {
      "cell_type": "code",
      "metadata": {
        "id": "rGNN6J2-nmFr",
        "colab_type": "code",
        "colab": {}
      },
      "source": [
        "modeller = [\n",
        "    knn_tuned,\n",
        "    loj_model,\n",
        "    svc_tuned,\n",
        "    nb_model,\n",
        "    mlpc_tuned,\n",
        "    cart_tuned,\n",
        "    rf_tuned,\n",
        "    gbm_tuned,\n",
        "    catb_tuned,\n",
        "    lgbm_tuned,\n",
        "    xgb_tuned\n",
        "    \n",
        "]\n",
        "\n",
        "\n",
        "for model in modeller:\n",
        "    isimler = model.__class__.__name__\n",
        "    y_pred = model.predict(X_test)\n",
        "    dogruluk = accuracy_score(y_test, y_pred)\n",
        "    print(\"-\"*28)\n",
        "    print(isimler + \":\" )\n",
        "    print(\"Accuracy: {:.4%}\".format(dogruluk))"
      ],
      "execution_count": 0,
      "outputs": []
    },
    {
      "cell_type": "code",
      "metadata": {
        "id": "OL5N3laSpcmu",
        "colab_type": "code",
        "colab": {}
      },
      "source": [
        ""
      ],
      "execution_count": 0,
      "outputs": []
    }
  ]
}